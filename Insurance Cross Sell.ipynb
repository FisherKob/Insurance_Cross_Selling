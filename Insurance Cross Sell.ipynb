{
 "cells": [
  {
   "cell_type": "markdown",
   "metadata": {},
   "source": [
    "In this module, I used CatBoost model to predcit the response of whether the policyholders from past year will be interested in Vehicle Insurance provided by the company.CatBoost is an open-source software library developed by Yandex. It provides a gradient boosting framework which attempts to solve for Categorical features using a permutation driven alternative compared to the classical algorithm. [wiki](https://en.wikipedia.org/wiki/Catboost)\n",
    "The model was able to achieve 85% of accuracy.\n",
    "\n",
    "\n",
    "Our client is an Insurance company that has provided Health Insurance to its customers now they need your help in building a model to predict whether the policyholders (customers) from past year will also be interested in Vehicle Insurance provided by the company.\n",
    "\n"
   ]
  },
  {
   "cell_type": "code",
   "execution_count": 1,
   "metadata": {},
   "outputs": [],
   "source": [
    "import pandas as pd\n",
    "import numpy as np\n",
    "import matplotlib.pyplot as plt\n",
    "%matplotlib inline\n",
    "import seaborn as sns\n",
    "from sklearn.preprocessing import StandardScaler ,MinMaxScaler\n",
    "from sklearn.model_selection import train_test_split\n",
    "from catboost import CatBoostClassifier\n",
    "from sklearn.metrics import roc_auc_score, confusion_matrix,plot_roc_curve"
   ]
  },
  {
   "cell_type": "code",
   "execution_count": 2,
   "metadata": {},
   "outputs": [],
   "source": [
    "train=pd.read_csv('/Users/nischal/Desktop/Git Hub Projects/Insurance Cross Sell/train.csv')\n",
    "test=pd.read_csv('/Users/nischal/Desktop/Git Hub Projects/Insurance Cross Sell/test.csv')"
   ]
  },
  {
   "cell_type": "code",
   "execution_count": 3,
   "metadata": {},
   "outputs": [
    {
     "data": {
      "text/html": [
       "<div>\n",
       "<style scoped>\n",
       "    .dataframe tbody tr th:only-of-type {\n",
       "        vertical-align: middle;\n",
       "    }\n",
       "\n",
       "    .dataframe tbody tr th {\n",
       "        vertical-align: top;\n",
       "    }\n",
       "\n",
       "    .dataframe thead th {\n",
       "        text-align: right;\n",
       "    }\n",
       "</style>\n",
       "<table border=\"1\" class=\"dataframe\">\n",
       "  <thead>\n",
       "    <tr style=\"text-align: right;\">\n",
       "      <th></th>\n",
       "      <th>id</th>\n",
       "      <th>Gender</th>\n",
       "      <th>Age</th>\n",
       "      <th>Driving_License</th>\n",
       "      <th>Region_Code</th>\n",
       "      <th>Previously_Insured</th>\n",
       "      <th>Vehicle_Age</th>\n",
       "      <th>Vehicle_Damage</th>\n",
       "      <th>Annual_Premium</th>\n",
       "      <th>Policy_Sales_Channel</th>\n",
       "      <th>Vintage</th>\n",
       "      <th>Response</th>\n",
       "    </tr>\n",
       "  </thead>\n",
       "  <tbody>\n",
       "    <tr>\n",
       "      <th>0</th>\n",
       "      <td>1</td>\n",
       "      <td>Male</td>\n",
       "      <td>44</td>\n",
       "      <td>1</td>\n",
       "      <td>28.0</td>\n",
       "      <td>0</td>\n",
       "      <td>&gt; 2 Years</td>\n",
       "      <td>Yes</td>\n",
       "      <td>40454.0</td>\n",
       "      <td>26.0</td>\n",
       "      <td>217</td>\n",
       "      <td>1</td>\n",
       "    </tr>\n",
       "    <tr>\n",
       "      <th>1</th>\n",
       "      <td>2</td>\n",
       "      <td>Male</td>\n",
       "      <td>76</td>\n",
       "      <td>1</td>\n",
       "      <td>3.0</td>\n",
       "      <td>0</td>\n",
       "      <td>1-2 Year</td>\n",
       "      <td>No</td>\n",
       "      <td>33536.0</td>\n",
       "      <td>26.0</td>\n",
       "      <td>183</td>\n",
       "      <td>0</td>\n",
       "    </tr>\n",
       "    <tr>\n",
       "      <th>2</th>\n",
       "      <td>3</td>\n",
       "      <td>Male</td>\n",
       "      <td>47</td>\n",
       "      <td>1</td>\n",
       "      <td>28.0</td>\n",
       "      <td>0</td>\n",
       "      <td>&gt; 2 Years</td>\n",
       "      <td>Yes</td>\n",
       "      <td>38294.0</td>\n",
       "      <td>26.0</td>\n",
       "      <td>27</td>\n",
       "      <td>1</td>\n",
       "    </tr>\n",
       "    <tr>\n",
       "      <th>3</th>\n",
       "      <td>4</td>\n",
       "      <td>Male</td>\n",
       "      <td>21</td>\n",
       "      <td>1</td>\n",
       "      <td>11.0</td>\n",
       "      <td>1</td>\n",
       "      <td>&lt; 1 Year</td>\n",
       "      <td>No</td>\n",
       "      <td>28619.0</td>\n",
       "      <td>152.0</td>\n",
       "      <td>203</td>\n",
       "      <td>0</td>\n",
       "    </tr>\n",
       "    <tr>\n",
       "      <th>4</th>\n",
       "      <td>5</td>\n",
       "      <td>Female</td>\n",
       "      <td>29</td>\n",
       "      <td>1</td>\n",
       "      <td>41.0</td>\n",
       "      <td>1</td>\n",
       "      <td>&lt; 1 Year</td>\n",
       "      <td>No</td>\n",
       "      <td>27496.0</td>\n",
       "      <td>152.0</td>\n",
       "      <td>39</td>\n",
       "      <td>0</td>\n",
       "    </tr>\n",
       "  </tbody>\n",
       "</table>\n",
       "</div>"
      ],
      "text/plain": [
       "   id  Gender  Age  Driving_License  Region_Code  Previously_Insured  \\\n",
       "0   1    Male   44                1         28.0                   0   \n",
       "1   2    Male   76                1          3.0                   0   \n",
       "2   3    Male   47                1         28.0                   0   \n",
       "3   4    Male   21                1         11.0                   1   \n",
       "4   5  Female   29                1         41.0                   1   \n",
       "\n",
       "  Vehicle_Age Vehicle_Damage  Annual_Premium  Policy_Sales_Channel  Vintage  \\\n",
       "0   > 2 Years            Yes         40454.0                  26.0      217   \n",
       "1    1-2 Year             No         33536.0                  26.0      183   \n",
       "2   > 2 Years            Yes         38294.0                  26.0       27   \n",
       "3    < 1 Year             No         28619.0                 152.0      203   \n",
       "4    < 1 Year             No         27496.0                 152.0       39   \n",
       "\n",
       "   Response  \n",
       "0         1  \n",
       "1         0  \n",
       "2         1  \n",
       "3         0  \n",
       "4         0  "
      ]
     },
     "execution_count": 3,
     "metadata": {},
     "output_type": "execute_result"
    }
   ],
   "source": [
    "train.head()"
   ]
  },
  {
   "cell_type": "code",
   "execution_count": 4,
   "metadata": {},
   "outputs": [
    {
     "data": {
      "text/plain": [
       "(381109, 12)"
      ]
     },
     "execution_count": 4,
     "metadata": {},
     "output_type": "execute_result"
    }
   ],
   "source": [
    "train.shape"
   ]
  },
  {
   "cell_type": "code",
   "execution_count": 5,
   "metadata": {},
   "outputs": [
    {
     "data": {
      "text/plain": [
       "0"
      ]
     },
     "execution_count": 5,
     "metadata": {},
     "output_type": "execute_result"
    }
   ],
   "source": [
    "train.isna().any().sum()"
   ]
  },
  {
   "cell_type": "code",
   "execution_count": 6,
   "metadata": {},
   "outputs": [
    {
     "name": "stdout",
     "output_type": "stream",
     "text": [
      "<class 'pandas.core.frame.DataFrame'>\n",
      "RangeIndex: 381109 entries, 0 to 381108\n",
      "Data columns (total 12 columns):\n",
      " #   Column                Non-Null Count   Dtype  \n",
      "---  ------                --------------   -----  \n",
      " 0   id                    381109 non-null  int64  \n",
      " 1   Gender                381109 non-null  object \n",
      " 2   Age                   381109 non-null  int64  \n",
      " 3   Driving_License       381109 non-null  int64  \n",
      " 4   Region_Code           381109 non-null  float64\n",
      " 5   Previously_Insured    381109 non-null  int64  \n",
      " 6   Vehicle_Age           381109 non-null  object \n",
      " 7   Vehicle_Damage        381109 non-null  object \n",
      " 8   Annual_Premium        381109 non-null  float64\n",
      " 9   Policy_Sales_Channel  381109 non-null  float64\n",
      " 10  Vintage               381109 non-null  int64  \n",
      " 11  Response              381109 non-null  int64  \n",
      "dtypes: float64(3), int64(6), object(3)\n",
      "memory usage: 34.9+ MB\n"
     ]
    }
   ],
   "source": [
    "train.info()"
   ]
  },
  {
   "cell_type": "code",
   "execution_count": 7,
   "metadata": {},
   "outputs": [
    {
     "data": {
      "text/plain": [
       "Male      206089\n",
       "Female    175020\n",
       "Name: Gender, dtype: int64"
      ]
     },
     "execution_count": 7,
     "metadata": {},
     "output_type": "execute_result"
    }
   ],
   "source": [
    "train['Gender'].value_counts()"
   ]
  },
  {
   "cell_type": "code",
   "execution_count": 8,
   "metadata": {},
   "outputs": [
    {
     "data": {
      "text/plain": [
       "1-2 Year     200316\n",
       "< 1 Year     164786\n",
       "> 2 Years     16007\n",
       "Name: Vehicle_Age, dtype: int64"
      ]
     },
     "execution_count": 8,
     "metadata": {},
     "output_type": "execute_result"
    }
   ],
   "source": [
    "train['Vehicle_Age'].value_counts()"
   ]
  },
  {
   "cell_type": "code",
   "execution_count": 9,
   "metadata": {},
   "outputs": [
    {
     "data": {
      "text/plain": [
       "Yes    192413\n",
       "No     188696\n",
       "Name: Vehicle_Damage, dtype: int64"
      ]
     },
     "execution_count": 9,
     "metadata": {},
     "output_type": "execute_result"
    }
   ],
   "source": [
    "train['Vehicle_Damage'].value_counts()"
   ]
  },
  {
   "cell_type": "code",
   "execution_count": 10,
   "metadata": {},
   "outputs": [
    {
     "data": {
      "text/plain": [
       "Index(['id', 'Gender', 'Age', 'Driving_License', 'Region_Code',\n",
       "       'Previously_Insured', 'Vehicle_Age', 'Vehicle_Damage', 'Annual_Premium',\n",
       "       'Policy_Sales_Channel', 'Vintage', 'Response'],\n",
       "      dtype='object')"
      ]
     },
     "execution_count": 10,
     "metadata": {},
     "output_type": "execute_result"
    }
   ],
   "source": [
    "train.columns"
   ]
  },
  {
   "cell_type": "code",
   "execution_count": 11,
   "metadata": {},
   "outputs": [
    {
     "data": {
      "text/plain": [
       "0    334399\n",
       "1     46710\n",
       "Name: Response, dtype: int64"
      ]
     },
     "execution_count": 11,
     "metadata": {},
     "output_type": "execute_result"
    }
   ],
   "source": [
    "train['Response'].value_counts()"
   ]
  },
  {
   "cell_type": "code",
   "execution_count": 12,
   "metadata": {},
   "outputs": [
    {
     "data": {
      "text/plain": [
       "id                      381109\n",
       "Gender                       2\n",
       "Age                         66\n",
       "Driving_License              2\n",
       "Region_Code                 53\n",
       "Previously_Insured           2\n",
       "Vehicle_Age                  3\n",
       "Vehicle_Damage               2\n",
       "Annual_Premium           48838\n",
       "Policy_Sales_Channel       155\n",
       "Vintage                    290\n",
       "Response                     2\n",
       "dtype: int64"
      ]
     },
     "execution_count": 12,
     "metadata": {},
     "output_type": "execute_result"
    }
   ],
   "source": [
    "train.nunique()"
   ]
  },
  {
   "cell_type": "code",
   "execution_count": 13,
   "metadata": {},
   "outputs": [
    {
     "data": {
      "text/plain": [
       "Response\n",
       "0    334399\n",
       "1     46710\n",
       "Name: id, dtype: int64"
      ]
     },
     "execution_count": 13,
     "metadata": {},
     "output_type": "execute_result"
    }
   ],
   "source": [
    "train.groupby('Response').count()['id']"
   ]
  },
  {
   "cell_type": "code",
   "execution_count": null,
   "metadata": {},
   "outputs": [],
   "source": []
  },
  {
   "cell_type": "code",
   "execution_count": 14,
   "metadata": {},
   "outputs": [
    {
     "data": {
      "image/png": "[encoded data removed]",
      "text/plain": [
       "<Figure size 1300x300 with 2 Axes>"
      ]
     },
     "metadata": {
      "needs_background": "light"
     },
     "output_type": "display_data"
    }
   ],
   "source": [
    "fig,ax=plt.subplots(ncols=2,figsize=(13,3),dpi=100)\n",
    "plt.tight_layout\n",
    "\n",
    "train.groupby('Response').count()['id'].plot(kind='pie',ax=ax[0],labels=['Interested', 'Not Interested'])\n",
    "sns.countplot(x=train['Response'],hue=train['Response'],ax=ax[1])\n",
    "ax[0].set_ylabel('')\n",
    "ax[0].set_ylabel('')\n",
    "ax[1].set_xticklabels(['Interested','Non Interested'])\n",
    "ax[0].tick_params(axis='x',labelsize=8)\n",
    "ax[0].tick_params(axis='y',labelsize=8)\n",
    "ax[1].tick_params(axis='x',labelsize=8)\n",
    "ax[1].tick_params(axis='y',labelsize=8)\n",
    "\n",
    "ax[0].set_title('Label Distribuition in Training Set',fontsize=8)\n",
    "ax[1].set_title('Label Count in Training Set', fontsize=8)\n",
    "plt.show()"
   ]
  },
  {
   "cell_type": "code",
   "execution_count": 15,
   "metadata": {},
   "outputs": [
    {
     "data": {
      "image/png": "[encoded data removed]",
      "text/plain": [
       "<Figure size 1296x504 with 1 Axes>"
      ]
     },
     "metadata": {
      "needs_background": "light"
     },
     "output_type": "display_data"
    }
   ],
   "source": [
    "plt.rcParams['figure.figsize']=(18,7)\n",
    "color=plt.cm.copper(np.linspace(0,1,66))\n",
    "train['Age'].value_counts().head(66).plot.bar(color=color)\n",
    "plt.title('Age distribution (Most policy holders are young. Age is highly skewed)',fontsize=15)\n",
    "plt.xticks(rotation=50)\n",
    "plt.show()"
   ]
  },
  {
   "cell_type": "code",
   "execution_count": 16,
   "metadata": {},
   "outputs": [],
   "source": [
    "train['type']='train'\n",
    "test['type']='test'"
   ]
  },
  {
   "cell_type": "code",
   "execution_count": 17,
   "metadata": {},
   "outputs": [],
   "source": [
    "master_data=pd.concat([train,test])"
   ]
  },
  {
   "cell_type": "code",
   "execution_count": 18,
   "metadata": {},
   "outputs": [
    {
     "data": {
      "text/html": [
       "<div>\n",
       "<style scoped>\n",
       "    .dataframe tbody tr th:only-of-type {\n",
       "        vertical-align: middle;\n",
       "    }\n",
       "\n",
       "    .dataframe tbody tr th {\n",
       "        vertical-align: top;\n",
       "    }\n",
       "\n",
       "    .dataframe thead th {\n",
       "        text-align: right;\n",
       "    }\n",
       "</style>\n",
       "<table border=\"1\" class=\"dataframe\">\n",
       "  <thead>\n",
       "    <tr style=\"text-align: right;\">\n",
       "      <th></th>\n",
       "      <th>id</th>\n",
       "      <th>Gender</th>\n",
       "      <th>Age</th>\n",
       "      <th>Driving_License</th>\n",
       "      <th>Region_Code</th>\n",
       "      <th>Previously_Insured</th>\n",
       "      <th>Vehicle_Age</th>\n",
       "      <th>Vehicle_Damage</th>\n",
       "      <th>Annual_Premium</th>\n",
       "      <th>Policy_Sales_Channel</th>\n",
       "      <th>Vintage</th>\n",
       "      <th>Response</th>\n",
       "      <th>type</th>\n",
       "    </tr>\n",
       "  </thead>\n",
       "  <tbody>\n",
       "    <tr>\n",
       "      <th>0</th>\n",
       "      <td>1</td>\n",
       "      <td>Male</td>\n",
       "      <td>44</td>\n",
       "      <td>1</td>\n",
       "      <td>28.0</td>\n",
       "      <td>0</td>\n",
       "      <td>&gt; 2 Years</td>\n",
       "      <td>Yes</td>\n",
       "      <td>40454.0</td>\n",
       "      <td>26.0</td>\n",
       "      <td>217</td>\n",
       "      <td>1.0</td>\n",
       "      <td>train</td>\n",
       "    </tr>\n",
       "    <tr>\n",
       "      <th>1</th>\n",
       "      <td>2</td>\n",
       "      <td>Male</td>\n",
       "      <td>76</td>\n",
       "      <td>1</td>\n",
       "      <td>3.0</td>\n",
       "      <td>0</td>\n",
       "      <td>1-2 Year</td>\n",
       "      <td>No</td>\n",
       "      <td>33536.0</td>\n",
       "      <td>26.0</td>\n",
       "      <td>183</td>\n",
       "      <td>0.0</td>\n",
       "      <td>train</td>\n",
       "    </tr>\n",
       "    <tr>\n",
       "      <th>2</th>\n",
       "      <td>3</td>\n",
       "      <td>Male</td>\n",
       "      <td>47</td>\n",
       "      <td>1</td>\n",
       "      <td>28.0</td>\n",
       "      <td>0</td>\n",
       "      <td>&gt; 2 Years</td>\n",
       "      <td>Yes</td>\n",
       "      <td>38294.0</td>\n",
       "      <td>26.0</td>\n",
       "      <td>27</td>\n",
       "      <td>1.0</td>\n",
       "      <td>train</td>\n",
       "    </tr>\n",
       "    <tr>\n",
       "      <th>3</th>\n",
       "      <td>4</td>\n",
       "      <td>Male</td>\n",
       "      <td>21</td>\n",
       "      <td>1</td>\n",
       "      <td>11.0</td>\n",
       "      <td>1</td>\n",
       "      <td>&lt; 1 Year</td>\n",
       "      <td>No</td>\n",
       "      <td>28619.0</td>\n",
       "      <td>152.0</td>\n",
       "      <td>203</td>\n",
       "      <td>0.0</td>\n",
       "      <td>train</td>\n",
       "    </tr>\n",
       "    <tr>\n",
       "      <th>4</th>\n",
       "      <td>5</td>\n",
       "      <td>Female</td>\n",
       "      <td>29</td>\n",
       "      <td>1</td>\n",
       "      <td>41.0</td>\n",
       "      <td>1</td>\n",
       "      <td>&lt; 1 Year</td>\n",
       "      <td>No</td>\n",
       "      <td>27496.0</td>\n",
       "      <td>152.0</td>\n",
       "      <td>39</td>\n",
       "      <td>0.0</td>\n",
       "      <td>train</td>\n",
       "    </tr>\n",
       "  </tbody>\n",
       "</table>\n",
       "</div>"
      ],
      "text/plain": [
       "   id  Gender  Age  Driving_License  Region_Code  Previously_Insured  \\\n",
       "0   1    Male   44                1         28.0                   0   \n",
       "1   2    Male   76                1          3.0                   0   \n",
       "2   3    Male   47                1         28.0                   0   \n",
       "3   4    Male   21                1         11.0                   1   \n",
       "4   5  Female   29                1         41.0                   1   \n",
       "\n",
       "  Vehicle_Age Vehicle_Damage  Annual_Premium  Policy_Sales_Channel  Vintage  \\\n",
       "0   > 2 Years            Yes         40454.0                  26.0      217   \n",
       "1    1-2 Year             No         33536.0                  26.0      183   \n",
       "2   > 2 Years            Yes         38294.0                  26.0       27   \n",
       "3    < 1 Year             No         28619.0                 152.0      203   \n",
       "4    < 1 Year             No         27496.0                 152.0       39   \n",
       "\n",
       "   Response   type  \n",
       "0       1.0  train  \n",
       "1       0.0  train  \n",
       "2       1.0  train  \n",
       "3       0.0  train  \n",
       "4       0.0  train  "
      ]
     },
     "execution_count": 18,
     "metadata": {},
     "output_type": "execute_result"
    }
   ],
   "source": [
    "master_data.head()"
   ]
  },
  {
   "cell_type": "code",
   "execution_count": 19,
   "metadata": {},
   "outputs": [
    {
     "data": {
      "image/png": "[encoded data removed]",
      "text/plain": [
       "<Figure size 576x360 with 1 Axes>"
      ]
     },
     "metadata": {
      "needs_background": "light"
     },
     "output_type": "display_data"
    }
   ],
   "source": [
    "plt.figure(figsize=(8,5))\n",
    "sns.distplot(master_data['Annual_Premium'])\n",
    "plt.title('Annual Premium distribution (Highly skewed to the right)', fontsize=10)\n",
    "plt.xlabel('Annual Premium')\n",
    "plt.show()"
   ]
  },
  {
   "cell_type": "code",
   "execution_count": 20,
   "metadata": {},
   "outputs": [
    {
     "data": {
      "text/plain": [
       "Gender\n",
       "Female    233821\n",
       "Male      274325\n",
       "Name: id, dtype: int64"
      ]
     },
     "execution_count": 20,
     "metadata": {},
     "output_type": "execute_result"
    }
   ],
   "source": [
    "master_data.groupby('Gender').count()['id']"
   ]
  },
  {
   "cell_type": "code",
   "execution_count": 21,
   "metadata": {},
   "outputs": [
    {
     "data": {
      "text/plain": [
       "0         44\n",
       "1         76\n",
       "2         47\n",
       "3         21\n",
       "6         23\n",
       "          ..\n",
       "127029    64\n",
       "127031    21\n",
       "127034    21\n",
       "127035    71\n",
       "127036    41\n",
       "Name: Age, Length: 274325, dtype: int64"
      ]
     },
     "execution_count": 21,
     "metadata": {},
     "output_type": "execute_result"
    }
   ],
   "source": [
    "master_data.loc[(master_data['Gender']=='Male'),'Age']"
   ]
  },
  {
   "cell_type": "code",
   "execution_count": 22,
   "metadata": {},
   "outputs": [
    {
     "data": {
      "image/png": "[encoded data removed]",
      "text/plain": [
       "<Figure size 1080x432 with 1 Axes>"
      ]
     },
     "metadata": {
      "needs_background": "light"
     },
     "output_type": "display_data"
    }
   ],
   "source": [
    "plt.figure(figsize=(15,6))\n",
    "sns.distplot(master_data.loc[(master_data['Gender']=='Male'),'Age'], kde_kws={'color':'b','lw':1,'label':'Male'})\n",
    "sns.distplot(master_data.loc[(master_data['Gender']=='Female'),'Age'],kde_kws={'color':'r','lw':1,'label':'Female'})\n",
    "plt.title('Age Distribution by Gender')\n",
    "plt.show()"
   ]
  },
  {
   "cell_type": "code",
   "execution_count": 23,
   "metadata": {},
   "outputs": [
    {
     "data": {
      "image/png": "[encoded data removed]",
      "text/plain": [
       "<Figure size 1080x432 with 1 Axes>"
      ]
     },
     "metadata": {
      "needs_background": "light"
     },
     "output_type": "display_data"
    }
   ],
   "source": [
    "plt.figure(figsize=(15,6))\n",
    "sns.distplot(master_data.loc[(master_data['Gender']=='Male'),'Annual_Premium'], kde_kws={'color':'b','lw':1,'label':'Male'})\n",
    "sns.distplot(master_data.loc[(master_data['Gender']=='Female'),'Annual_Premium'],kde_kws={'color':'r','lw':1,'label':'Female'})\n",
    "plt.title('Annual_Premium Distribution by Gender')\n",
    "plt.show()"
   ]
  },
  {
   "cell_type": "code",
   "execution_count": 24,
   "metadata": {},
   "outputs": [
    {
     "data": {
      "text/plain": [
       "array(['> 2 Years', '1-2 Year', '< 1 Year'], dtype=object)"
      ]
     },
     "execution_count": 24,
     "metadata": {},
     "output_type": "execute_result"
    }
   ],
   "source": [
    "master_data['Vehicle_Age'].unique()"
   ]
  },
  {
   "cell_type": "code",
   "execution_count": 25,
   "metadata": {},
   "outputs": [
    {
     "data": {
      "image/png": "[encoded data removed]",
      "text/plain": [
       "<Figure size 1080x432 with 1 Axes>"
      ]
     },
     "metadata": {
      "needs_background": "light"
     },
     "output_type": "display_data"
    }
   ],
   "source": [
    "plt.figure(figsize=(15,6))\n",
    "sns.distplot(master_data.loc[(master_data['Vehicle_Age']=='> 2 Years'),'Annual_Premium'], kde_kws={'color':'b','lw':1,'label':'> 2 Years'})\n",
    "sns.distplot(master_data.loc[(master_data['Vehicle_Age']=='1-2 Year'),'Annual_Premium'],kde_kws={'color':'r','lw':1,'label':'1-2 Year'})\n",
    "sns.distplot(master_data.loc[(master_data['Vehicle_Age']=='< 1 Year'),'Annual_Premium'],kde_kws={'color':'r','lw':1,'label':'< 1 Year'})\n",
    "plt.title('Annual_Premium Distribution by Vehicle_Age')\n",
    "plt.show()"
   ]
  },
  {
   "cell_type": "code",
   "execution_count": 26,
   "metadata": {},
   "outputs": [
    {
     "data": {
      "text/plain": [
       "<AxesSubplot:xlabel='Annual_Premium'>"
      ]
     },
     "execution_count": 26,
     "metadata": {},
     "output_type": "execute_result"
    },
    {
     "data": {
      "image/png": "[encoded data removed]",
      "text/plain": [
       "<Figure size 1296x360 with 1 Axes>"
      ]
     },
     "metadata": {
      "needs_background": "light"
     },
     "output_type": "display_data"
    }
   ],
   "source": [
    "plt.figure(figsize=(18,5))\n",
    "sns.boxplot(master_data['Annual_Premium'])\n"
   ]
  },
  {
   "cell_type": "markdown",
   "metadata": {},
   "source": [
    "Feature Engineering"
   ]
  },
  {
   "cell_type": "code",
   "execution_count": 27,
   "metadata": {},
   "outputs": [
    {
     "name": "stdout",
     "output_type": "stream",
     "text": [
      "Unique Values --> + Gender, :, 2: ,['Male' 'Female']\n",
      "Unique Values --> + Age, :, 66: ,[44 76 47 21 29 24 23 56 32 41 71 37 25 42 60 65 49 34 51 26 57 79 48 45\n",
      " 72 30 54 27 38 22 78 20 39 62 58 59 63 50 67 77 28 69 52 31 33 43 36 53\n",
      " 70 46 55 40 61 75 64 35 66 68 74 73 84 83 81 80 82 85]\n",
      "Unique Values --> + Driving_License, :, 2: ,[1 0]\n",
      "Unique Values --> + Region_Code, :, 53: ,[28.  3. 11. 41. 33.  6. 35. 50. 15. 45.  8. 36. 30. 26. 16. 47. 48. 19.\n",
      " 39. 23. 37.  5. 17.  2.  7. 29. 46. 27. 25. 13. 18. 20. 49. 22. 44.  0.\n",
      "  9. 31. 12. 34. 21. 10. 14. 38. 24. 40. 43. 32.  4. 51. 42.  1. 52.]\n",
      "Unique Values --> + Previously_Insured, :, 2: ,[0 1]\n",
      "Unique Values --> + Vehicle_Age, :, 3: ,['> 2 Years' '1-2 Year' '< 1 Year']\n",
      "Unique Values --> + Vehicle_Damage, :, 2: ,['Yes' 'No']\n",
      "Unique Values --> + Annual_Premium, :, 48838: ,[ 40454.  33536.  38294. ...  20706. 101664.  69845.]\n",
      "Unique Values --> + Policy_Sales_Channel, :, 155: ,[ 26. 152. 160. 124.  14.  13.  30. 156. 163. 157. 122.  19.  22.  15.\n",
      " 154.  16.  52. 155.  11. 151. 125.  25.  61.   1.  86.  31. 150.  23.\n",
      "  60.  21. 121.   3. 139.  12.  29.  55.   7.  47. 127. 153.  78. 158.\n",
      "  89.  32.   8.  10. 120.  65.   4.  42.  83. 136.  24.  18.  56.  48.\n",
      " 106.  54.  93. 116.  91.  45.   9. 145. 147.  44. 109.  37. 140. 107.\n",
      " 128. 131. 114. 118. 159. 119. 105. 135.  62. 138. 129.  88.  92. 111.\n",
      " 113.  73.  36.  28.  35.  59.  53. 148. 133. 108.  64.  39.  94. 132.\n",
      "  46.  81. 103.  90.  51.  27. 146.  63.  96.  40.  66. 100.  95. 123.\n",
      "  98.  75.  69. 130. 134.  49.  97.  38.  17. 110.  80.  71. 117.  58.\n",
      "  20.  76. 104.  87.  84. 137. 126.  68.  67. 101. 115.  57.  82.  79.\n",
      " 112.  99.  70.   2.  34.  33.  74. 102. 149.  43.   6.  50. 144. 143.\n",
      "  41.]\n",
      "Unique Values --> + Vintage, :, 290: ,[217 183  27 203  39 176 249  72  28  80  46 289 221  15  58 147 256 299\n",
      " 158 102 116 177 232  60 180  49  57 223 136 222 149 169  88 253 107 264\n",
      " 233  45 184 251 153 186  71  34  83  12 246 141 216 130 282  73 171 283\n",
      " 295 165  30 218  22  36  79  81 100  63 242 277  61 111 167  74 235 131\n",
      " 243 248 114 281  62 189 139 138 209 254 291  68  92  52  78 156 247 275\n",
      "  77 181 229 166  16  23  31 293 219  50 155  66 260  19 258 117 193 204\n",
      " 212 144 234 206 228 125  29  18  84 230  54 123 101  86  13 237  85  98\n",
      "  67 128  95  89  99 208 134 135 268 284 119 226 105 142 207 272 263  64\n",
      "  40 245 163  24 265 202 259  91 106 190 162  33 194 287 292  69 239 132\n",
      " 255 152 121 150 143 198 103 127 285 214 151 199  56  59 215 104 238 120\n",
      "  21  32 270 211 200 197  11 213  93 113 178  10 290  94 231 296  47 122\n",
      " 271 278 276  96 240 172 257 224 173 220 185  90  51 205  70 160 137 168\n",
      "  87 118 288 126 241  82 227 115 164 236 286 244 108 274 201  97  25 174\n",
      " 182 154  48  20  53  17 261  41 266  35 140 269 146 145  65 298 133 195\n",
      "  55 188  75  38  43 110  37 129 170 109 267 279 112 280  76 191  26 161\n",
      " 179 175 252  42 124 187 148 294  44 157 192 262 159 210 250  14 273 297\n",
      " 225 196]\n",
      "Unique Values --> + Response, :, 2: ,[1 0]\n",
      "Unique Values --> + type, :, 1: ,['train']\n"
     ]
    }
   ],
   "source": [
    "for col in train.columns[~(train.columns.isin(['age','id','region_code','annual_premium','policy_sales_channel','policy_sales_channel','vintage']))].tolist():\n",
    "                         print(f'Unique Values --> + {col}, :, {len(train[col].unique())}: ,{train[col].unique()}')\n",
    "                         "
   ]
  },
  {
   "cell_type": "code",
   "execution_count": 28,
   "metadata": {},
   "outputs": [
    {
     "data": {
      "text/plain": [
       "array([1, 0])"
      ]
     },
     "execution_count": 28,
     "metadata": {},
     "output_type": "execute_result"
    }
   ],
   "source": [
    "master_data['Driving_License'].unique()\n"
   ]
  },
  {
   "cell_type": "code",
   "execution_count": 29,
   "metadata": {},
   "outputs": [
    {
     "data": {
      "text/plain": [
       "0           Male\n",
       "1           Male\n",
       "2           Male\n",
       "3           Male\n",
       "4         Female\n",
       "           ...  \n",
       "127032    Female\n",
       "127033    Female\n",
       "127034      Male\n",
       "127035      Male\n",
       "127036      Male\n",
       "Name: Gender, Length: 508146, dtype: object"
      ]
     },
     "execution_count": 29,
     "metadata": {},
     "output_type": "execute_result"
    }
   ],
   "source": [
    "master_data.columns\n",
    "master_data['Gender']"
   ]
  },
  {
   "cell_type": "code",
   "execution_count": 30,
   "metadata": {},
   "outputs": [
    {
     "data": {
      "text/html": [
       "<div>\n",
       "<style scoped>\n",
       "    .dataframe tbody tr th:only-of-type {\n",
       "        vertical-align: middle;\n",
       "    }\n",
       "\n",
       "    .dataframe tbody tr th {\n",
       "        vertical-align: top;\n",
       "    }\n",
       "\n",
       "    .dataframe thead th {\n",
       "        text-align: right;\n",
       "    }\n",
       "</style>\n",
       "<table border=\"1\" class=\"dataframe\">\n",
       "  <thead>\n",
       "    <tr style=\"text-align: right;\">\n",
       "      <th></th>\n",
       "      <th>id</th>\n",
       "      <th>Gender</th>\n",
       "      <th>Age</th>\n",
       "      <th>Driving_License</th>\n",
       "      <th>Region_Code</th>\n",
       "      <th>Previously_Insured</th>\n",
       "      <th>Vehicle_Age</th>\n",
       "      <th>Vehicle_Damage</th>\n",
       "      <th>Annual_Premium</th>\n",
       "      <th>Policy_Sales_Channel</th>\n",
       "      <th>Vintage</th>\n",
       "      <th>Response</th>\n",
       "      <th>type</th>\n",
       "    </tr>\n",
       "  </thead>\n",
       "  <tbody>\n",
       "    <tr>\n",
       "      <th>0</th>\n",
       "      <td>1</td>\n",
       "      <td>0</td>\n",
       "      <td>44</td>\n",
       "      <td>1</td>\n",
       "      <td>28</td>\n",
       "      <td>1</td>\n",
       "      <td>2</td>\n",
       "      <td>1</td>\n",
       "      <td>40454.0</td>\n",
       "      <td>26</td>\n",
       "      <td>217</td>\n",
       "      <td>1.0</td>\n",
       "      <td>train</td>\n",
       "    </tr>\n",
       "    <tr>\n",
       "      <th>1</th>\n",
       "      <td>2</td>\n",
       "      <td>0</td>\n",
       "      <td>76</td>\n",
       "      <td>1</td>\n",
       "      <td>3</td>\n",
       "      <td>1</td>\n",
       "      <td>1</td>\n",
       "      <td>0</td>\n",
       "      <td>33536.0</td>\n",
       "      <td>26</td>\n",
       "      <td>183</td>\n",
       "      <td>0.0</td>\n",
       "      <td>train</td>\n",
       "    </tr>\n",
       "    <tr>\n",
       "      <th>2</th>\n",
       "      <td>3</td>\n",
       "      <td>0</td>\n",
       "      <td>47</td>\n",
       "      <td>1</td>\n",
       "      <td>28</td>\n",
       "      <td>1</td>\n",
       "      <td>2</td>\n",
       "      <td>1</td>\n",
       "      <td>38294.0</td>\n",
       "      <td>26</td>\n",
       "      <td>27</td>\n",
       "      <td>1.0</td>\n",
       "      <td>train</td>\n",
       "    </tr>\n",
       "    <tr>\n",
       "      <th>3</th>\n",
       "      <td>4</td>\n",
       "      <td>0</td>\n",
       "      <td>21</td>\n",
       "      <td>1</td>\n",
       "      <td>11</td>\n",
       "      <td>0</td>\n",
       "      <td>0</td>\n",
       "      <td>0</td>\n",
       "      <td>28619.0</td>\n",
       "      <td>152</td>\n",
       "      <td>203</td>\n",
       "      <td>0.0</td>\n",
       "      <td>train</td>\n",
       "    </tr>\n",
       "    <tr>\n",
       "      <th>4</th>\n",
       "      <td>5</td>\n",
       "      <td>1</td>\n",
       "      <td>29</td>\n",
       "      <td>1</td>\n",
       "      <td>41</td>\n",
       "      <td>0</td>\n",
       "      <td>0</td>\n",
       "      <td>0</td>\n",
       "      <td>27496.0</td>\n",
       "      <td>152</td>\n",
       "      <td>39</td>\n",
       "      <td>0.0</td>\n",
       "      <td>train</td>\n",
       "    </tr>\n",
       "  </tbody>\n",
       "</table>\n",
       "</div>"
      ],
      "text/plain": [
       "   id  Gender  Age  Driving_License  Region_Code  Previously_Insured  \\\n",
       "0   1       0   44                1           28                   1   \n",
       "1   2       0   76                1            3                   1   \n",
       "2   3       0   47                1           28                   1   \n",
       "3   4       0   21                1           11                   0   \n",
       "4   5       1   29                1           41                   0   \n",
       "\n",
       "   Vehicle_Age  Vehicle_Damage  Annual_Premium  Policy_Sales_Channel  Vintage  \\\n",
       "0            2               1         40454.0                    26      217   \n",
       "1            1               0         33536.0                    26      183   \n",
       "2            2               1         38294.0                    26       27   \n",
       "3            0               0         28619.0                   152      203   \n",
       "4            0               0         27496.0                   152       39   \n",
       "\n",
       "   Response   type  \n",
       "0       1.0  train  \n",
       "1       0.0  train  \n",
       "2       1.0  train  \n",
       "3       0.0  train  \n",
       "4       0.0  train  "
      ]
     },
     "execution_count": 30,
     "metadata": {},
     "output_type": "execute_result"
    }
   ],
   "source": [
    "Gender = {'Male': 0, 'Female': 1}\n",
    "Driving_License = {0: 0, 1: 1}\n",
    "Previously_Insured = {0: 1, 1: 0}\n",
    "Vehicle_Age = {'> 2 Years': 2, '1-2 Year': 1, '< 1 Year': 0}\n",
    "Vehicle_Damage = {'Yes': 1, 'No': 0}\n",
    "\n",
    "master_data['Gender'] = master_data['Gender'].map(Gender)\n",
    "master_data['Driving_License'] = master_data['Driving_License'].map(Driving_License)\n",
    "master_data['Previously_Insured'] = master_data['Previously_Insured'].map(Previously_Insured)\n",
    "master_data['Vehicle_Age'] = master_data['Vehicle_Age'].map(Vehicle_Age)\n",
    "master_data['Vehicle_Damage'] = master_data['Vehicle_Damage'].map(Vehicle_Damage)\n",
    "\n",
    "master_data['Policy_Sales_Channel'] = master_data['Policy_Sales_Channel'].apply(lambda x: np.int(x))\n",
    "master_data['Region_Code'] = master_data['Region_Code'].apply(lambda x: np.int(x))\n",
    "\n",
    "master_data.head()"
   ]
  },
  {
   "cell_type": "code",
   "execution_count": 31,
   "metadata": {},
   "outputs": [
    {
     "data": {
      "image/png": "[encoded data removed]",
      "text/plain": [
       "<Figure size 1296x504 with 2 Axes>"
      ]
     },
     "metadata": {
      "needs_background": "light"
     },
     "output_type": "display_data"
    }
   ],
   "source": [
    "corrMatrix=master_data.corr()\n",
    "sns.heatmap(corrMatrix,annot=True)\n",
    "plt.show()"
   ]
  },
  {
   "cell_type": "code",
   "execution_count": null,
   "metadata": {},
   "outputs": [],
   "source": []
  },
  {
   "cell_type": "code",
   "execution_count": 32,
   "metadata": {},
   "outputs": [],
   "source": [
    "numerical_cols=['Age','Vintage']\n",
    "cat_col=['Gender', 'Driving_License', 'Region_Code', 'Previously_Insured', 'Vehicle_Age', 'Vehicle_Damage', 'Policy_Sales_Channel']\n",
    "ss=StandardScaler()\n",
    "master_data[numerical_cols]=ss.fit_transform(master_data[numerical_cols])\n",
    "mm=MinMaxScaler()\n",
    "master_data[['Annual_Premium']]=mm.fit_transform(master_data[['Annual_Premium']])\n",
    "\n",
    "\n",
    "\n"
   ]
  },
  {
   "cell_type": "code",
   "execution_count": 33,
   "metadata": {},
   "outputs": [
    {
     "data": {
      "text/html": [
       "<div>\n",
       "<style scoped>\n",
       "    .dataframe tbody tr th:only-of-type {\n",
       "        vertical-align: middle;\n",
       "    }\n",
       "\n",
       "    .dataframe tbody tr th {\n",
       "        vertical-align: top;\n",
       "    }\n",
       "\n",
       "    .dataframe thead th {\n",
       "        text-align: right;\n",
       "    }\n",
       "</style>\n",
       "<table border=\"1\" class=\"dataframe\">\n",
       "  <thead>\n",
       "    <tr style=\"text-align: right;\">\n",
       "      <th></th>\n",
       "      <th>id</th>\n",
       "      <th>Gender</th>\n",
       "      <th>Age</th>\n",
       "      <th>Driving_License</th>\n",
       "      <th>Region_Code</th>\n",
       "      <th>Previously_Insured</th>\n",
       "      <th>Vehicle_Age</th>\n",
       "      <th>Vehicle_Damage</th>\n",
       "      <th>Annual_Premium</th>\n",
       "      <th>Policy_Sales_Channel</th>\n",
       "      <th>Vintage</th>\n",
       "      <th>Response</th>\n",
       "      <th>type</th>\n",
       "    </tr>\n",
       "  </thead>\n",
       "  <tbody>\n",
       "    <tr>\n",
       "      <th>0</th>\n",
       "      <td>1</td>\n",
       "      <td>0</td>\n",
       "      <td>0.334938</td>\n",
       "      <td>1</td>\n",
       "      <td>28</td>\n",
       "      <td>1</td>\n",
       "      <td>2</td>\n",
       "      <td>1</td>\n",
       "      <td>0.070366</td>\n",
       "      <td>26</td>\n",
       "      <td>0.748905</td>\n",
       "      <td>1.0</td>\n",
       "      <td>train</td>\n",
       "    </tr>\n",
       "    <tr>\n",
       "      <th>1</th>\n",
       "      <td>2</td>\n",
       "      <td>0</td>\n",
       "      <td>2.399432</td>\n",
       "      <td>1</td>\n",
       "      <td>3</td>\n",
       "      <td>1</td>\n",
       "      <td>1</td>\n",
       "      <td>0</td>\n",
       "      <td>0.057496</td>\n",
       "      <td>26</td>\n",
       "      <td>0.342540</td>\n",
       "      <td>0.0</td>\n",
       "      <td>train</td>\n",
       "    </tr>\n",
       "    <tr>\n",
       "      <th>2</th>\n",
       "      <td>3</td>\n",
       "      <td>0</td>\n",
       "      <td>0.528484</td>\n",
       "      <td>1</td>\n",
       "      <td>28</td>\n",
       "      <td>1</td>\n",
       "      <td>2</td>\n",
       "      <td>1</td>\n",
       "      <td>0.066347</td>\n",
       "      <td>26</td>\n",
       "      <td>-1.521956</td>\n",
       "      <td>1.0</td>\n",
       "      <td>train</td>\n",
       "    </tr>\n",
       "    <tr>\n",
       "      <th>3</th>\n",
       "      <td>4</td>\n",
       "      <td>0</td>\n",
       "      <td>-1.148918</td>\n",
       "      <td>1</td>\n",
       "      <td>11</td>\n",
       "      <td>0</td>\n",
       "      <td>0</td>\n",
       "      <td>0</td>\n",
       "      <td>0.048348</td>\n",
       "      <td>152</td>\n",
       "      <td>0.581578</td>\n",
       "      <td>0.0</td>\n",
       "      <td>train</td>\n",
       "    </tr>\n",
       "    <tr>\n",
       "      <th>4</th>\n",
       "      <td>5</td>\n",
       "      <td>1</td>\n",
       "      <td>-0.632794</td>\n",
       "      <td>1</td>\n",
       "      <td>41</td>\n",
       "      <td>0</td>\n",
       "      <td>0</td>\n",
       "      <td>0</td>\n",
       "      <td>0.046259</td>\n",
       "      <td>152</td>\n",
       "      <td>-1.378534</td>\n",
       "      <td>0.0</td>\n",
       "      <td>train</td>\n",
       "    </tr>\n",
       "  </tbody>\n",
       "</table>\n",
       "</div>"
      ],
      "text/plain": [
       "   id  Gender       Age  Driving_License  Region_Code  Previously_Insured  \\\n",
       "0   1       0  0.334938                1           28                   1   \n",
       "1   2       0  2.399432                1            3                   1   \n",
       "2   3       0  0.528484                1           28                   1   \n",
       "3   4       0 -1.148918                1           11                   0   \n",
       "4   5       1 -0.632794                1           41                   0   \n",
       "\n",
       "   Vehicle_Age  Vehicle_Damage  Annual_Premium  Policy_Sales_Channel  \\\n",
       "0            2               1        0.070366                    26   \n",
       "1            1               0        0.057496                    26   \n",
       "2            2               1        0.066347                    26   \n",
       "3            0               0        0.048348                   152   \n",
       "4            0               0        0.046259                   152   \n",
       "\n",
       "    Vintage  Response   type  \n",
       "0  0.748905       1.0  train  \n",
       "1  0.342540       0.0  train  \n",
       "2 -1.521956       1.0  train  \n",
       "3  0.581578       0.0  train  \n",
       "4 -1.378534       0.0  train  "
      ]
     },
     "execution_count": 33,
     "metadata": {},
     "output_type": "execute_result"
    }
   ],
   "source": [
    "master_data.head()"
   ]
  },
  {
   "cell_type": "code",
   "execution_count": 34,
   "metadata": {},
   "outputs": [],
   "source": [
    "train_data=master_data.loc[(master_data['type']=='train')]"
   ]
  },
  {
   "cell_type": "code",
   "execution_count": 35,
   "metadata": {},
   "outputs": [],
   "source": [
    "test_data=master_data.loc[(master_data['type']=='test')]"
   ]
  },
  {
   "cell_type": "code",
   "execution_count": 36,
   "metadata": {},
   "outputs": [
    {
     "data": {
      "text/plain": [
       "((127037, 13), (381109, 13))"
      ]
     },
     "execution_count": 36,
     "metadata": {},
     "output_type": "execute_result"
    }
   ],
   "source": [
    "test_data.shape, train_data.shape"
   ]
  },
  {
   "cell_type": "code",
   "execution_count": 37,
   "metadata": {},
   "outputs": [
    {
     "name": "stderr",
     "output_type": "stream",
     "text": [
      "/Applications/Anaconda/anaconda3/lib/python3.7/site-packages/ipykernel_launcher.py:2: SettingWithCopyWarning: \n",
      "A value is trying to be set on a copy of a slice from a DataFrame.\n",
      "Try using .loc[row_indexer,col_indexer] = value instead\n",
      "\n",
      "See the caveats in the documentation: https://pandas.pydata.org/pandas-docs/stable/user_guide/indexing.html#returning-a-view-versus-a-copy\n",
      "  \n"
     ]
    }
   ],
   "source": [
    "for col in cat_col:\n",
    "    test_data[col]=test_data[col].astype('str')"
   ]
  },
  {
   "cell_type": "code",
   "execution_count": 38,
   "metadata": {},
   "outputs": [
    {
     "name": "stdout",
     "output_type": "stream",
     "text": [
      "<class 'pandas.core.frame.DataFrame'>\n",
      "Int64Index: 127037 entries, 0 to 127036\n",
      "Data columns (total 13 columns):\n",
      " #   Column                Non-Null Count   Dtype  \n",
      "---  ------                --------------   -----  \n",
      " 0   id                    127037 non-null  int64  \n",
      " 1   Gender                127037 non-null  object \n",
      " 2   Age                   127037 non-null  float64\n",
      " 3   Driving_License       127037 non-null  object \n",
      " 4   Region_Code           127037 non-null  object \n",
      " 5   Previously_Insured    127037 non-null  object \n",
      " 6   Vehicle_Age           127037 non-null  object \n",
      " 7   Vehicle_Damage        127037 non-null  object \n",
      " 8   Annual_Premium        127037 non-null  float64\n",
      " 9   Policy_Sales_Channel  127037 non-null  object \n",
      " 10  Vintage               127037 non-null  float64\n",
      " 11  Response              0 non-null       float64\n",
      " 12  type                  127037 non-null  object \n",
      "dtypes: float64(4), int64(1), object(8)\n",
      "memory usage: 13.6+ MB\n"
     ]
    }
   ],
   "source": [
    "test_data.info()"
   ]
  },
  {
   "cell_type": "code",
   "execution_count": 39,
   "metadata": {},
   "outputs": [
    {
     "name": "stderr",
     "output_type": "stream",
     "text": [
      "/Applications/Anaconda/anaconda3/lib/python3.7/site-packages/ipykernel_launcher.py:2: SettingWithCopyWarning: \n",
      "A value is trying to be set on a copy of a slice from a DataFrame.\n",
      "Try using .loc[row_indexer,col_indexer] = value instead\n",
      "\n",
      "See the caveats in the documentation: https://pandas.pydata.org/pandas-docs/stable/user_guide/indexing.html#returning-a-view-versus-a-copy\n",
      "  \n"
     ]
    }
   ],
   "source": [
    "for col in cat_col:\n",
    "    train_data[col]=train_data[col].astype('str')"
   ]
  },
  {
   "cell_type": "code",
   "execution_count": 40,
   "metadata": {},
   "outputs": [],
   "source": [
    "train_data=train_data.drop('Vintage',axis=1)"
   ]
  },
  {
   "cell_type": "code",
   "execution_count": 41,
   "metadata": {},
   "outputs": [],
   "source": [
    "test_data=test_data.drop('Vintage',axis=1)"
   ]
  },
  {
   "cell_type": "code",
   "execution_count": 42,
   "metadata": {},
   "outputs": [],
   "source": [
    "cat_cols=[0,2,3,4,5,6,8]"
   ]
  },
  {
   "cell_type": "code",
   "execution_count": 43,
   "metadata": {},
   "outputs": [],
   "source": [
    "X=train_data.drop('Response',axis=1)\n"
   ]
  },
  {
   "cell_type": "code",
   "execution_count": 44,
   "metadata": {},
   "outputs": [],
   "source": [
    "y=train_data['Response']"
   ]
  },
  {
   "cell_type": "code",
   "execution_count": 45,
   "metadata": {},
   "outputs": [],
   "source": [
    "X_train,X_test,y_train,y_test=train_test_split(X,y,test_size=0.2,stratify=y)"
   ]
  },
  {
   "cell_type": "markdown",
   "metadata": {},
   "source": [
    "**Model Building**"
   ]
  },
  {
   "cell_type": "markdown",
   "metadata": {},
   "source": [
    "CatBoost:"
   ]
  },
  {
   "cell_type": "code",
   "execution_count": 46,
   "metadata": {},
   "outputs": [],
   "source": [
    "modelC=CatBoostClassifier()"
   ]
  },
  {
   "cell_type": "code",
   "execution_count": 47,
   "metadata": {},
   "outputs": [
    {
     "name": "stdout",
     "output_type": "stream",
     "text": [
      "<class 'pandas.core.frame.DataFrame'>\n",
      "Int64Index: 304887 entries, 374341 to 327660\n",
      "Data columns (total 11 columns):\n",
      " #   Column                Non-Null Count   Dtype  \n",
      "---  ------                --------------   -----  \n",
      " 0   id                    304887 non-null  int64  \n",
      " 1   Gender                304887 non-null  object \n",
      " 2   Age                   304887 non-null  float64\n",
      " 3   Driving_License       304887 non-null  object \n",
      " 4   Region_Code           304887 non-null  object \n",
      " 5   Previously_Insured    304887 non-null  object \n",
      " 6   Vehicle_Age           304887 non-null  object \n",
      " 7   Vehicle_Damage        304887 non-null  object \n",
      " 8   Annual_Premium        304887 non-null  float64\n",
      " 9   Policy_Sales_Channel  304887 non-null  object \n",
      " 10  type                  304887 non-null  object \n",
      "dtypes: float64(2), int64(1), object(8)\n",
      "memory usage: 27.9+ MB\n"
     ]
    }
   ],
   "source": [
    "X_train.info()"
   ]
  },
  {
   "cell_type": "code",
   "execution_count": 48,
   "metadata": {},
   "outputs": [
    {
     "name": "stdout",
     "output_type": "stream",
     "text": [
      "<class 'pandas.core.frame.DataFrame'>\n",
      "Int64Index: 76222 entries, 292843 to 69829\n",
      "Data columns (total 11 columns):\n",
      " #   Column                Non-Null Count  Dtype  \n",
      "---  ------                --------------  -----  \n",
      " 0   id                    76222 non-null  int64  \n",
      " 1   Gender                76222 non-null  object \n",
      " 2   Age                   76222 non-null  float64\n",
      " 3   Driving_License       76222 non-null  object \n",
      " 4   Region_Code           76222 non-null  object \n",
      " 5   Previously_Insured    76222 non-null  object \n",
      " 6   Vehicle_Age           76222 non-null  object \n",
      " 7   Vehicle_Damage        76222 non-null  object \n",
      " 8   Annual_Premium        76222 non-null  float64\n",
      " 9   Policy_Sales_Channel  76222 non-null  object \n",
      " 10  type                  76222 non-null  object \n",
      "dtypes: float64(2), int64(1), object(8)\n",
      "memory usage: 7.0+ MB\n"
     ]
    }
   ],
   "source": [
    "X_test.info()"
   ]
  },
  {
   "cell_type": "code",
   "execution_count": 49,
   "metadata": {},
   "outputs": [],
   "source": [
    "X_train=X_train.drop('type',axis=1)\n",
    "X_test=X_test.drop('type',axis=1)\n",
    "\n"
   ]
  },
  {
   "cell_type": "code",
   "execution_count": 50,
   "metadata": {},
   "outputs": [
    {
     "name": "stdout",
     "output_type": "stream",
     "text": [
      "Learning rate set to 0.118484\n",
      "0:\tlearn: 0.5061884\ttotal: 104ms\tremaining: 1m 43s\n",
      "1:\tlearn: 0.4246446\ttotal: 134ms\tremaining: 1m 6s\n",
      "2:\tlearn: 0.3630749\ttotal: 165ms\tremaining: 54.7s\n",
      "3:\tlearn: 0.3295214\ttotal: 197ms\tremaining: 49s\n",
      "4:\tlearn: 0.3102140\ttotal: 227ms\tremaining: 45.2s\n",
      "5:\tlearn: 0.2981163\ttotal: 258ms\tremaining: 42.7s\n",
      "6:\tlearn: 0.2903743\ttotal: 284ms\tremaining: 40.4s\n",
      "7:\tlearn: 0.2851063\ttotal: 309ms\tremaining: 38.3s\n",
      "8:\tlearn: 0.2815630\ttotal: 333ms\tremaining: 36.7s\n",
      "9:\tlearn: 0.2787965\ttotal: 357ms\tremaining: 35.4s\n",
      "10:\tlearn: 0.2767298\ttotal: 381ms\tremaining: 34.3s\n",
      "11:\tlearn: 0.2751773\ttotal: 406ms\tremaining: 33.4s\n",
      "12:\tlearn: 0.2736111\ttotal: 431ms\tremaining: 32.7s\n",
      "13:\tlearn: 0.2725865\ttotal: 456ms\tremaining: 32.1s\n",
      "14:\tlearn: 0.2717174\ttotal: 480ms\tremaining: 31.5s\n",
      "15:\tlearn: 0.2711659\ttotal: 505ms\tremaining: 31.1s\n",
      "16:\tlearn: 0.2704882\ttotal: 530ms\tremaining: 30.6s\n",
      "17:\tlearn: 0.2700447\ttotal: 555ms\tremaining: 30.3s\n",
      "18:\tlearn: 0.2696043\ttotal: 580ms\tremaining: 29.9s\n",
      "19:\tlearn: 0.2693666\ttotal: 604ms\tremaining: 29.6s\n",
      "20:\tlearn: 0.2690106\ttotal: 630ms\tremaining: 29.4s\n",
      "21:\tlearn: 0.2687311\ttotal: 659ms\tremaining: 29.3s\n",
      "22:\tlearn: 0.2685149\ttotal: 697ms\tremaining: 29.6s\n",
      "23:\tlearn: 0.2682093\ttotal: 733ms\tremaining: 29.8s\n",
      "24:\tlearn: 0.2679629\ttotal: 769ms\tremaining: 30s\n",
      "25:\tlearn: 0.2677941\ttotal: 795ms\tremaining: 29.8s\n",
      "26:\tlearn: 0.2676654\ttotal: 819ms\tremaining: 29.5s\n",
      "27:\tlearn: 0.2675475\ttotal: 847ms\tremaining: 29.4s\n",
      "28:\tlearn: 0.2674057\ttotal: 872ms\tremaining: 29.2s\n",
      "29:\tlearn: 0.2673178\ttotal: 896ms\tremaining: 29s\n",
      "30:\tlearn: 0.2671180\ttotal: 921ms\tremaining: 28.8s\n",
      "31:\tlearn: 0.2669911\ttotal: 956ms\tremaining: 28.9s\n",
      "32:\tlearn: 0.2668740\ttotal: 982ms\tremaining: 28.8s\n",
      "33:\tlearn: 0.2667770\ttotal: 1.01s\tremaining: 28.6s\n",
      "34:\tlearn: 0.2666628\ttotal: 1.03s\tremaining: 28.4s\n",
      "35:\tlearn: 0.2665410\ttotal: 1.06s\tremaining: 28.3s\n",
      "36:\tlearn: 0.2664812\ttotal: 1.08s\tremaining: 28.1s\n",
      "37:\tlearn: 0.2663523\ttotal: 1.11s\tremaining: 28s\n",
      "38:\tlearn: 0.2662378\ttotal: 1.13s\tremaining: 27.9s\n",
      "39:\tlearn: 0.2661633\ttotal: 1.16s\tremaining: 27.8s\n",
      "40:\tlearn: 0.2660604\ttotal: 1.18s\tremaining: 27.7s\n",
      "41:\tlearn: 0.2659758\ttotal: 1.21s\tremaining: 27.6s\n",
      "42:\tlearn: 0.2659163\ttotal: 1.23s\tremaining: 27.5s\n",
      "43:\tlearn: 0.2658369\ttotal: 1.26s\tremaining: 27.4s\n",
      "44:\tlearn: 0.2657931\ttotal: 1.28s\tremaining: 27.2s\n",
      "45:\tlearn: 0.2657210\ttotal: 1.31s\tremaining: 27.1s\n",
      "46:\tlearn: 0.2656608\ttotal: 1.33s\tremaining: 27.1s\n",
      "47:\tlearn: 0.2656236\ttotal: 1.36s\tremaining: 26.9s\n",
      "48:\tlearn: 0.2655460\ttotal: 1.38s\tremaining: 26.8s\n",
      "49:\tlearn: 0.2654664\ttotal: 1.41s\tremaining: 26.7s\n",
      "50:\tlearn: 0.2654214\ttotal: 1.43s\tremaining: 26.6s\n",
      "51:\tlearn: 0.2653870\ttotal: 1.46s\tremaining: 26.5s\n",
      "52:\tlearn: 0.2653252\ttotal: 1.48s\tremaining: 26.5s\n",
      "53:\tlearn: 0.2652819\ttotal: 1.52s\tremaining: 26.6s\n",
      "54:\tlearn: 0.2652271\ttotal: 1.55s\tremaining: 26.7s\n",
      "55:\tlearn: 0.2651825\ttotal: 1.58s\tremaining: 26.7s\n",
      "56:\tlearn: 0.2651206\ttotal: 1.61s\tremaining: 26.6s\n",
      "57:\tlearn: 0.2650927\ttotal: 1.63s\tremaining: 26.5s\n",
      "58:\tlearn: 0.2650539\ttotal: 1.66s\tremaining: 26.5s\n",
      "59:\tlearn: 0.2650248\ttotal: 1.68s\tremaining: 26.4s\n",
      "60:\tlearn: 0.2649832\ttotal: 1.71s\tremaining: 26.4s\n",
      "61:\tlearn: 0.2649385\ttotal: 1.74s\tremaining: 26.3s\n",
      "62:\tlearn: 0.2648905\ttotal: 1.76s\tremaining: 26.2s\n",
      "63:\tlearn: 0.2648677\ttotal: 1.78s\tremaining: 26.1s\n",
      "64:\tlearn: 0.2648324\ttotal: 1.82s\tremaining: 26.1s\n",
      "65:\tlearn: 0.2647944\ttotal: 1.84s\tremaining: 26.1s\n",
      "66:\tlearn: 0.2647533\ttotal: 1.88s\tremaining: 26.1s\n",
      "67:\tlearn: 0.2647025\ttotal: 1.91s\tremaining: 26.1s\n",
      "68:\tlearn: 0.2646605\ttotal: 1.93s\tremaining: 26s\n",
      "69:\tlearn: 0.2646232\ttotal: 1.96s\tremaining: 26s\n",
      "70:\tlearn: 0.2645898\ttotal: 1.98s\tremaining: 25.9s\n",
      "71:\tlearn: 0.2645538\ttotal: 2s\tremaining: 25.8s\n",
      "72:\tlearn: 0.2645222\ttotal: 2.03s\tremaining: 25.8s\n",
      "73:\tlearn: 0.2645044\ttotal: 2.05s\tremaining: 25.7s\n",
      "74:\tlearn: 0.2644749\ttotal: 2.08s\tremaining: 25.6s\n",
      "75:\tlearn: 0.2644447\ttotal: 2.1s\tremaining: 25.6s\n",
      "76:\tlearn: 0.2644162\ttotal: 2.13s\tremaining: 25.5s\n",
      "77:\tlearn: 0.2643917\ttotal: 2.15s\tremaining: 25.5s\n",
      "78:\tlearn: 0.2643581\ttotal: 2.18s\tremaining: 25.4s\n",
      "79:\tlearn: 0.2643162\ttotal: 2.2s\tremaining: 25.3s\n",
      "80:\tlearn: 0.2642908\ttotal: 2.23s\tremaining: 25.3s\n",
      "81:\tlearn: 0.2642589\ttotal: 2.25s\tremaining: 25.2s\n",
      "82:\tlearn: 0.2642276\ttotal: 2.28s\tremaining: 25.2s\n",
      "83:\tlearn: 0.2642025\ttotal: 2.3s\tremaining: 25.1s\n",
      "84:\tlearn: 0.2641735\ttotal: 2.33s\tremaining: 25.1s\n",
      "85:\tlearn: 0.2641262\ttotal: 2.35s\tremaining: 25s\n",
      "86:\tlearn: 0.2640928\ttotal: 2.38s\tremaining: 24.9s\n",
      "87:\tlearn: 0.2640734\ttotal: 2.4s\tremaining: 24.9s\n",
      "88:\tlearn: 0.2640502\ttotal: 2.42s\tremaining: 24.8s\n",
      "89:\tlearn: 0.2640324\ttotal: 2.45s\tremaining: 24.7s\n",
      "90:\tlearn: 0.2640071\ttotal: 2.47s\tremaining: 24.7s\n",
      "91:\tlearn: 0.2639837\ttotal: 2.5s\tremaining: 24.6s\n",
      "92:\tlearn: 0.2639497\ttotal: 2.52s\tremaining: 24.6s\n",
      "93:\tlearn: 0.2639348\ttotal: 2.54s\tremaining: 24.5s\n",
      "94:\tlearn: 0.2639038\ttotal: 2.57s\tremaining: 24.5s\n",
      "95:\tlearn: 0.2638877\ttotal: 2.6s\tremaining: 24.4s\n",
      "96:\tlearn: 0.2638609\ttotal: 2.62s\tremaining: 24.4s\n",
      "97:\tlearn: 0.2638360\ttotal: 2.64s\tremaining: 24.3s\n",
      "98:\tlearn: 0.2638229\ttotal: 2.67s\tremaining: 24.3s\n",
      "99:\tlearn: 0.2638134\ttotal: 2.69s\tremaining: 24.2s\n",
      "100:\tlearn: 0.2637920\ttotal: 2.71s\tremaining: 24.2s\n",
      "101:\tlearn: 0.2637695\ttotal: 2.74s\tremaining: 24.1s\n",
      "102:\tlearn: 0.2637508\ttotal: 2.76s\tremaining: 24.1s\n",
      "103:\tlearn: 0.2637218\ttotal: 2.79s\tremaining: 24s\n",
      "104:\tlearn: 0.2637025\ttotal: 2.82s\tremaining: 24s\n",
      "105:\tlearn: 0.2636839\ttotal: 2.84s\tremaining: 24s\n",
      "106:\tlearn: 0.2636402\ttotal: 2.87s\tremaining: 23.9s\n",
      "107:\tlearn: 0.2636134\ttotal: 2.89s\tremaining: 23.9s\n",
      "108:\tlearn: 0.2635871\ttotal: 2.92s\tremaining: 23.9s\n",
      "109:\tlearn: 0.2635641\ttotal: 2.95s\tremaining: 23.9s\n",
      "110:\tlearn: 0.2635260\ttotal: 2.97s\tremaining: 23.8s\n",
      "111:\tlearn: 0.2635004\ttotal: 3s\tremaining: 23.8s\n",
      "112:\tlearn: 0.2634723\ttotal: 3.02s\tremaining: 23.7s\n",
      "113:\tlearn: 0.2634457\ttotal: 3.05s\tremaining: 23.7s\n",
      "114:\tlearn: 0.2634076\ttotal: 3.08s\tremaining: 23.7s\n",
      "115:\tlearn: 0.2633870\ttotal: 3.1s\tremaining: 23.6s\n",
      "116:\tlearn: 0.2633681\ttotal: 3.13s\tremaining: 23.6s\n",
      "117:\tlearn: 0.2633408\ttotal: 3.15s\tremaining: 23.6s\n",
      "118:\tlearn: 0.2633158\ttotal: 3.18s\tremaining: 23.5s\n",
      "119:\tlearn: 0.2632818\ttotal: 3.2s\tremaining: 23.5s\n",
      "120:\tlearn: 0.2632500\ttotal: 3.23s\tremaining: 23.5s\n",
      "121:\tlearn: 0.2632069\ttotal: 3.25s\tremaining: 23.4s\n",
      "122:\tlearn: 0.2631795\ttotal: 3.28s\tremaining: 23.4s\n",
      "123:\tlearn: 0.2631636\ttotal: 3.3s\tremaining: 23.3s\n",
      "124:\tlearn: 0.2631427\ttotal: 3.33s\tremaining: 23.3s\n",
      "125:\tlearn: 0.2631175\ttotal: 3.35s\tremaining: 23.2s\n",
      "126:\tlearn: 0.2631015\ttotal: 3.37s\tremaining: 23.2s\n",
      "127:\tlearn: 0.2630810\ttotal: 3.4s\tremaining: 23.2s\n",
      "128:\tlearn: 0.2630582\ttotal: 3.42s\tremaining: 23.1s\n",
      "129:\tlearn: 0.2630403\ttotal: 3.45s\tremaining: 23.1s\n",
      "130:\tlearn: 0.2630139\ttotal: 3.48s\tremaining: 23.1s\n",
      "131:\tlearn: 0.2629919\ttotal: 3.5s\tremaining: 23s\n",
      "132:\tlearn: 0.2629678\ttotal: 3.53s\tremaining: 23s\n",
      "133:\tlearn: 0.2629531\ttotal: 3.55s\tremaining: 23s\n",
      "134:\tlearn: 0.2629297\ttotal: 3.58s\tremaining: 22.9s\n",
      "135:\tlearn: 0.2629083\ttotal: 3.6s\tremaining: 22.9s\n",
      "136:\tlearn: 0.2628805\ttotal: 3.63s\tremaining: 22.9s\n",
      "137:\tlearn: 0.2628598\ttotal: 3.65s\tremaining: 22.8s\n",
      "138:\tlearn: 0.2628408\ttotal: 3.68s\tremaining: 22.8s\n",
      "139:\tlearn: 0.2628244\ttotal: 3.7s\tremaining: 22.7s\n",
      "140:\tlearn: 0.2628031\ttotal: 3.73s\tremaining: 22.7s\n",
      "141:\tlearn: 0.2627798\ttotal: 3.75s\tremaining: 22.7s\n",
      "142:\tlearn: 0.2627594\ttotal: 3.77s\tremaining: 22.6s\n",
      "143:\tlearn: 0.2627182\ttotal: 3.8s\tremaining: 22.6s\n",
      "144:\tlearn: 0.2626924\ttotal: 3.83s\tremaining: 22.6s\n",
      "145:\tlearn: 0.2626691\ttotal: 3.85s\tremaining: 22.5s\n",
      "146:\tlearn: 0.2626481\ttotal: 3.88s\tremaining: 22.5s\n",
      "147:\tlearn: 0.2626272\ttotal: 3.9s\tremaining: 22.5s\n",
      "148:\tlearn: 0.2626061\ttotal: 3.92s\tremaining: 22.4s\n",
      "149:\tlearn: 0.2625894\ttotal: 3.95s\tremaining: 22.4s\n",
      "150:\tlearn: 0.2625652\ttotal: 3.97s\tremaining: 22.3s\n",
      "151:\tlearn: 0.2625366\ttotal: 4s\tremaining: 22.3s\n",
      "152:\tlearn: 0.2625190\ttotal: 4.02s\tremaining: 22.3s\n",
      "153:\tlearn: 0.2624977\ttotal: 4.05s\tremaining: 22.2s\n",
      "154:\tlearn: 0.2624706\ttotal: 4.08s\tremaining: 22.2s\n",
      "155:\tlearn: 0.2624496\ttotal: 4.1s\tremaining: 22.2s\n",
      "156:\tlearn: 0.2624297\ttotal: 4.12s\tremaining: 22.1s\n",
      "157:\tlearn: 0.2624061\ttotal: 4.15s\tremaining: 22.1s\n",
      "158:\tlearn: 0.2623841\ttotal: 4.17s\tremaining: 22.1s\n",
      "159:\tlearn: 0.2623577\ttotal: 4.2s\tremaining: 22s\n",
      "160:\tlearn: 0.2623402\ttotal: 4.22s\tremaining: 22s\n",
      "161:\tlearn: 0.2623232\ttotal: 4.25s\tremaining: 22s\n",
      "162:\tlearn: 0.2622974\ttotal: 4.27s\tremaining: 21.9s\n",
      "163:\tlearn: 0.2622721\ttotal: 4.29s\tremaining: 21.9s\n",
      "164:\tlearn: 0.2622555\ttotal: 4.32s\tremaining: 21.9s\n",
      "165:\tlearn: 0.2622436\ttotal: 4.34s\tremaining: 21.8s\n",
      "166:\tlearn: 0.2622289\ttotal: 4.37s\tremaining: 21.8s\n",
      "167:\tlearn: 0.2622119\ttotal: 4.39s\tremaining: 21.7s\n",
      "168:\tlearn: 0.2621890\ttotal: 4.42s\tremaining: 21.7s\n",
      "169:\tlearn: 0.2621702\ttotal: 4.44s\tremaining: 21.7s\n",
      "170:\tlearn: 0.2621545\ttotal: 4.46s\tremaining: 21.6s\n",
      "171:\tlearn: 0.2621378\ttotal: 4.49s\tremaining: 21.6s\n",
      "172:\tlearn: 0.2621155\ttotal: 4.52s\tremaining: 21.6s\n",
      "173:\tlearn: 0.2620950\ttotal: 4.54s\tremaining: 21.6s\n",
      "174:\tlearn: 0.2620738\ttotal: 4.56s\tremaining: 21.5s\n",
      "175:\tlearn: 0.2620504\ttotal: 4.59s\tremaining: 21.5s\n",
      "176:\tlearn: 0.2620288\ttotal: 4.61s\tremaining: 21.4s\n",
      "177:\tlearn: 0.2620000\ttotal: 4.64s\tremaining: 21.4s\n",
      "178:\tlearn: 0.2619792\ttotal: 4.66s\tremaining: 21.4s\n",
      "179:\tlearn: 0.2619552\ttotal: 4.69s\tremaining: 21.4s\n",
      "180:\tlearn: 0.2619432\ttotal: 4.71s\tremaining: 21.3s\n",
      "181:\tlearn: 0.2619321\ttotal: 4.74s\tremaining: 21.3s\n",
      "182:\tlearn: 0.2619077\ttotal: 4.76s\tremaining: 21.2s\n",
      "183:\tlearn: 0.2618846\ttotal: 4.78s\tremaining: 21.2s\n",
      "184:\tlearn: 0.2618658\ttotal: 4.81s\tremaining: 21.2s\n",
      "185:\tlearn: 0.2618422\ttotal: 4.83s\tremaining: 21.1s\n",
      "186:\tlearn: 0.2618210\ttotal: 4.86s\tremaining: 21.1s\n",
      "187:\tlearn: 0.2617998\ttotal: 4.88s\tremaining: 21.1s\n",
      "188:\tlearn: 0.2617808\ttotal: 4.91s\tremaining: 21.1s\n",
      "189:\tlearn: 0.2617652\ttotal: 4.93s\tremaining: 21s\n",
      "190:\tlearn: 0.2617445\ttotal: 4.96s\tremaining: 21s\n",
      "191:\tlearn: 0.2617054\ttotal: 4.98s\tremaining: 21s\n",
      "192:\tlearn: 0.2616852\ttotal: 5.01s\tremaining: 20.9s\n",
      "193:\tlearn: 0.2616663\ttotal: 5.03s\tremaining: 20.9s\n",
      "194:\tlearn: 0.2616457\ttotal: 5.06s\tremaining: 20.9s\n",
      "195:\tlearn: 0.2616212\ttotal: 5.08s\tremaining: 20.9s\n",
      "196:\tlearn: 0.2616052\ttotal: 5.11s\tremaining: 20.8s\n",
      "197:\tlearn: 0.2615849\ttotal: 5.14s\tremaining: 20.8s\n",
      "198:\tlearn: 0.2615723\ttotal: 5.17s\tremaining: 20.8s\n",
      "199:\tlearn: 0.2615531\ttotal: 5.21s\tremaining: 20.8s\n",
      "200:\tlearn: 0.2615356\ttotal: 5.24s\tremaining: 20.8s\n",
      "201:\tlearn: 0.2615185\ttotal: 5.26s\tremaining: 20.8s\n",
      "202:\tlearn: 0.2614915\ttotal: 5.29s\tremaining: 20.8s\n",
      "203:\tlearn: 0.2614724\ttotal: 5.32s\tremaining: 20.7s\n",
      "204:\tlearn: 0.2614530\ttotal: 5.34s\tremaining: 20.7s\n",
      "205:\tlearn: 0.2614376\ttotal: 5.36s\tremaining: 20.7s\n",
      "206:\tlearn: 0.2614151\ttotal: 5.39s\tremaining: 20.7s\n",
      "207:\tlearn: 0.2613986\ttotal: 5.42s\tremaining: 20.6s\n",
      "208:\tlearn: 0.2613766\ttotal: 5.45s\tremaining: 20.6s\n",
      "209:\tlearn: 0.2613577\ttotal: 5.48s\tremaining: 20.6s\n",
      "210:\tlearn: 0.2613383\ttotal: 5.51s\tremaining: 20.6s\n",
      "211:\tlearn: 0.2613189\ttotal: 5.54s\tremaining: 20.6s\n",
      "212:\tlearn: 0.2613009\ttotal: 5.57s\tremaining: 20.6s\n",
      "213:\tlearn: 0.2612821\ttotal: 5.6s\tremaining: 20.6s\n",
      "214:\tlearn: 0.2612508\ttotal: 5.63s\tremaining: 20.5s\n",
      "215:\tlearn: 0.2612324\ttotal: 5.66s\tremaining: 20.5s\n",
      "216:\tlearn: 0.2612171\ttotal: 5.68s\tremaining: 20.5s\n",
      "217:\tlearn: 0.2612000\ttotal: 5.71s\tremaining: 20.5s\n",
      "218:\tlearn: 0.2611866\ttotal: 5.74s\tremaining: 20.5s\n",
      "219:\tlearn: 0.2611692\ttotal: 5.76s\tremaining: 20.4s\n",
      "220:\tlearn: 0.2611472\ttotal: 5.79s\tremaining: 20.4s\n",
      "221:\tlearn: 0.2611214\ttotal: 5.82s\tremaining: 20.4s\n",
      "222:\tlearn: 0.2611026\ttotal: 5.85s\tremaining: 20.4s\n",
      "223:\tlearn: 0.2610845\ttotal: 5.87s\tremaining: 20.3s\n",
      "224:\tlearn: 0.2610659\ttotal: 5.9s\tremaining: 20.3s\n",
      "225:\tlearn: 0.2610507\ttotal: 5.93s\tremaining: 20.3s\n",
      "226:\tlearn: 0.2610358\ttotal: 5.96s\tremaining: 20.3s\n",
      "227:\tlearn: 0.2610140\ttotal: 5.99s\tremaining: 20.3s\n",
      "228:\tlearn: 0.2609920\ttotal: 6.01s\tremaining: 20.3s\n",
      "229:\tlearn: 0.2609780\ttotal: 6.04s\tremaining: 20.2s\n",
      "230:\tlearn: 0.2609617\ttotal: 6.07s\tremaining: 20.2s\n",
      "231:\tlearn: 0.2609490\ttotal: 6.1s\tremaining: 20.2s\n",
      "232:\tlearn: 0.2609234\ttotal: 6.12s\tremaining: 20.2s\n",
      "233:\tlearn: 0.2609008\ttotal: 6.15s\tremaining: 20.1s\n",
      "234:\tlearn: 0.2608774\ttotal: 6.18s\tremaining: 20.1s\n",
      "235:\tlearn: 0.2608630\ttotal: 6.21s\tremaining: 20.1s\n",
      "236:\tlearn: 0.2608461\ttotal: 6.24s\tremaining: 20.1s\n",
      "237:\tlearn: 0.2608195\ttotal: 6.27s\tremaining: 20.1s\n",
      "238:\tlearn: 0.2608058\ttotal: 6.3s\tremaining: 20.1s\n",
      "239:\tlearn: 0.2607866\ttotal: 6.33s\tremaining: 20s\n",
      "240:\tlearn: 0.2607710\ttotal: 6.35s\tremaining: 20s\n",
      "241:\tlearn: 0.2607544\ttotal: 6.38s\tremaining: 20s\n",
      "242:\tlearn: 0.2607389\ttotal: 6.41s\tremaining: 20s\n",
      "243:\tlearn: 0.2607171\ttotal: 6.44s\tremaining: 19.9s\n",
      "244:\tlearn: 0.2606978\ttotal: 6.47s\tremaining: 19.9s\n",
      "245:\tlearn: 0.2606773\ttotal: 6.5s\tremaining: 19.9s\n",
      "246:\tlearn: 0.2606636\ttotal: 6.52s\tremaining: 19.9s\n",
      "247:\tlearn: 0.2606538\ttotal: 6.55s\tremaining: 19.9s\n",
      "248:\tlearn: 0.2606360\ttotal: 6.58s\tremaining: 19.8s\n",
      "249:\tlearn: 0.2606228\ttotal: 6.61s\tremaining: 19.8s\n",
      "250:\tlearn: 0.2606062\ttotal: 6.63s\tremaining: 19.8s\n",
      "251:\tlearn: 0.2605821\ttotal: 6.66s\tremaining: 19.8s\n",
      "252:\tlearn: 0.2605652\ttotal: 6.69s\tremaining: 19.8s\n",
      "253:\tlearn: 0.2605459\ttotal: 6.72s\tremaining: 19.8s\n",
      "254:\tlearn: 0.2605283\ttotal: 6.75s\tremaining: 19.7s\n",
      "255:\tlearn: 0.2605084\ttotal: 6.78s\tremaining: 19.7s\n",
      "256:\tlearn: 0.2604940\ttotal: 6.81s\tremaining: 19.7s\n",
      "257:\tlearn: 0.2604661\ttotal: 6.84s\tremaining: 19.7s\n",
      "258:\tlearn: 0.2604466\ttotal: 6.87s\tremaining: 19.6s\n",
      "259:\tlearn: 0.2604226\ttotal: 6.9s\tremaining: 19.6s\n",
      "260:\tlearn: 0.2604052\ttotal: 6.93s\tremaining: 19.6s\n",
      "261:\tlearn: 0.2603918\ttotal: 6.95s\tremaining: 19.6s\n",
      "262:\tlearn: 0.2603686\ttotal: 6.98s\tremaining: 19.6s\n",
      "263:\tlearn: 0.2603497\ttotal: 7.01s\tremaining: 19.5s\n",
      "264:\tlearn: 0.2603340\ttotal: 7.04s\tremaining: 19.5s\n",
      "265:\tlearn: 0.2603153\ttotal: 7.07s\tremaining: 19.5s\n",
      "266:\tlearn: 0.2602976\ttotal: 7.09s\tremaining: 19.5s\n",
      "267:\tlearn: 0.2602839\ttotal: 7.12s\tremaining: 19.5s\n",
      "268:\tlearn: 0.2602668\ttotal: 7.15s\tremaining: 19.4s\n",
      "269:\tlearn: 0.2602511\ttotal: 7.18s\tremaining: 19.4s\n",
      "270:\tlearn: 0.2602332\ttotal: 7.21s\tremaining: 19.4s\n",
      "271:\tlearn: 0.2602143\ttotal: 7.23s\tremaining: 19.4s\n",
      "272:\tlearn: 0.2602012\ttotal: 7.26s\tremaining: 19.3s\n",
      "273:\tlearn: 0.2601831\ttotal: 7.29s\tremaining: 19.3s\n",
      "274:\tlearn: 0.2601669\ttotal: 7.32s\tremaining: 19.3s\n",
      "275:\tlearn: 0.2601483\ttotal: 7.35s\tremaining: 19.3s\n",
      "276:\tlearn: 0.2601338\ttotal: 7.38s\tremaining: 19.3s\n",
      "277:\tlearn: 0.2601050\ttotal: 7.4s\tremaining: 19.2s\n",
      "278:\tlearn: 0.2600811\ttotal: 7.43s\tremaining: 19.2s\n",
      "279:\tlearn: 0.2600705\ttotal: 7.46s\tremaining: 19.2s\n",
      "280:\tlearn: 0.2600595\ttotal: 7.49s\tremaining: 19.2s\n",
      "281:\tlearn: 0.2600456\ttotal: 7.51s\tremaining: 19.1s\n",
      "282:\tlearn: 0.2600310\ttotal: 7.54s\tremaining: 19.1s\n",
      "283:\tlearn: 0.2600210\ttotal: 7.57s\tremaining: 19.1s\n",
      "284:\tlearn: 0.2600050\ttotal: 7.6s\tremaining: 19.1s\n",
      "285:\tlearn: 0.2599903\ttotal: 7.63s\tremaining: 19s\n",
      "286:\tlearn: 0.2599738\ttotal: 7.66s\tremaining: 19s\n",
      "287:\tlearn: 0.2599568\ttotal: 7.69s\tremaining: 19s\n",
      "288:\tlearn: 0.2599419\ttotal: 7.72s\tremaining: 19s\n",
      "289:\tlearn: 0.2599304\ttotal: 7.74s\tremaining: 19s\n",
      "290:\tlearn: 0.2599129\ttotal: 7.77s\tremaining: 18.9s\n",
      "291:\tlearn: 0.2598997\ttotal: 7.8s\tremaining: 18.9s\n",
      "292:\tlearn: 0.2598854\ttotal: 7.83s\tremaining: 18.9s\n",
      "293:\tlearn: 0.2598653\ttotal: 7.86s\tremaining: 18.9s\n",
      "294:\tlearn: 0.2598520\ttotal: 7.88s\tremaining: 18.8s\n",
      "295:\tlearn: 0.2598387\ttotal: 7.91s\tremaining: 18.8s\n",
      "296:\tlearn: 0.2598207\ttotal: 7.94s\tremaining: 18.8s\n",
      "297:\tlearn: 0.2598070\ttotal: 7.97s\tremaining: 18.8s\n",
      "298:\tlearn: 0.2597896\ttotal: 8s\tremaining: 18.8s\n",
      "299:\tlearn: 0.2597691\ttotal: 8.03s\tremaining: 18.7s\n",
      "300:\tlearn: 0.2597589\ttotal: 8.06s\tremaining: 18.7s\n",
      "301:\tlearn: 0.2597509\ttotal: 8.08s\tremaining: 18.7s\n",
      "302:\tlearn: 0.2597348\ttotal: 8.11s\tremaining: 18.7s\n",
      "303:\tlearn: 0.2597191\ttotal: 8.14s\tremaining: 18.6s\n",
      "304:\tlearn: 0.2597032\ttotal: 8.17s\tremaining: 18.6s\n",
      "305:\tlearn: 0.2596871\ttotal: 8.2s\tremaining: 18.6s\n",
      "306:\tlearn: 0.2596737\ttotal: 8.23s\tremaining: 18.6s\n",
      "307:\tlearn: 0.2596549\ttotal: 8.26s\tremaining: 18.6s\n",
      "308:\tlearn: 0.2596404\ttotal: 8.29s\tremaining: 18.5s\n",
      "309:\tlearn: 0.2596185\ttotal: 8.31s\tremaining: 18.5s\n",
      "310:\tlearn: 0.2596011\ttotal: 8.34s\tremaining: 18.5s\n",
      "311:\tlearn: 0.2595851\ttotal: 8.37s\tremaining: 18.5s\n",
      "312:\tlearn: 0.2595701\ttotal: 8.4s\tremaining: 18.4s\n",
      "313:\tlearn: 0.2595609\ttotal: 8.43s\tremaining: 18.4s\n",
      "314:\tlearn: 0.2595493\ttotal: 8.46s\tremaining: 18.4s\n",
      "315:\tlearn: 0.2595319\ttotal: 8.48s\tremaining: 18.4s\n",
      "316:\tlearn: 0.2595132\ttotal: 8.51s\tremaining: 18.3s\n",
      "317:\tlearn: 0.2594954\ttotal: 8.54s\tremaining: 18.3s\n",
      "318:\tlearn: 0.2594786\ttotal: 8.57s\tremaining: 18.3s\n",
      "319:\tlearn: 0.2594622\ttotal: 8.6s\tremaining: 18.3s\n",
      "320:\tlearn: 0.2594500\ttotal: 8.63s\tremaining: 18.3s\n",
      "321:\tlearn: 0.2594380\ttotal: 8.66s\tremaining: 18.2s\n",
      "322:\tlearn: 0.2594278\ttotal: 8.69s\tremaining: 18.2s\n",
      "323:\tlearn: 0.2594163\ttotal: 8.72s\tremaining: 18.2s\n",
      "324:\tlearn: 0.2594019\ttotal: 8.75s\tremaining: 18.2s\n",
      "325:\tlearn: 0.2593874\ttotal: 8.79s\tremaining: 18.2s\n",
      "326:\tlearn: 0.2593663\ttotal: 8.83s\tremaining: 18.2s\n",
      "327:\tlearn: 0.2593432\ttotal: 8.86s\tremaining: 18.2s\n",
      "328:\tlearn: 0.2593234\ttotal: 8.89s\tremaining: 18.1s\n",
      "329:\tlearn: 0.2593090\ttotal: 8.92s\tremaining: 18.1s\n",
      "330:\tlearn: 0.2592970\ttotal: 8.96s\tremaining: 18.1s\n",
      "331:\tlearn: 0.2592801\ttotal: 8.99s\tremaining: 18.1s\n",
      "332:\tlearn: 0.2592664\ttotal: 9.02s\tremaining: 18.1s\n",
      "333:\tlearn: 0.2592570\ttotal: 9.06s\tremaining: 18.1s\n",
      "334:\tlearn: 0.2592381\ttotal: 9.09s\tremaining: 18s\n",
      "335:\tlearn: 0.2592244\ttotal: 9.12s\tremaining: 18s\n",
      "336:\tlearn: 0.2592005\ttotal: 9.15s\tremaining: 18s\n",
      "337:\tlearn: 0.2591881\ttotal: 9.18s\tremaining: 18s\n",
      "338:\tlearn: 0.2591709\ttotal: 9.21s\tremaining: 18s\n",
      "339:\tlearn: 0.2591581\ttotal: 9.24s\tremaining: 17.9s\n",
      "340:\tlearn: 0.2591410\ttotal: 9.27s\tremaining: 17.9s\n",
      "341:\tlearn: 0.2591243\ttotal: 9.3s\tremaining: 17.9s\n",
      "342:\tlearn: 0.2591143\ttotal: 9.33s\tremaining: 17.9s\n",
      "343:\tlearn: 0.2591007\ttotal: 9.37s\tremaining: 17.9s\n",
      "344:\tlearn: 0.2590847\ttotal: 9.42s\tremaining: 17.9s\n",
      "345:\tlearn: 0.2590772\ttotal: 9.46s\tremaining: 17.9s\n",
      "346:\tlearn: 0.2590666\ttotal: 9.51s\tremaining: 17.9s\n",
      "347:\tlearn: 0.2590530\ttotal: 9.55s\tremaining: 17.9s\n",
      "348:\tlearn: 0.2590327\ttotal: 9.58s\tremaining: 17.9s\n",
      "349:\tlearn: 0.2590170\ttotal: 9.62s\tremaining: 17.9s\n",
      "350:\tlearn: 0.2589993\ttotal: 9.65s\tremaining: 17.8s\n",
      "351:\tlearn: 0.2589837\ttotal: 9.68s\tremaining: 17.8s\n",
      "352:\tlearn: 0.2589626\ttotal: 9.71s\tremaining: 17.8s\n",
      "353:\tlearn: 0.2589549\ttotal: 9.74s\tremaining: 17.8s\n",
      "354:\tlearn: 0.2589401\ttotal: 9.77s\tremaining: 17.8s\n",
      "355:\tlearn: 0.2589302\ttotal: 9.8s\tremaining: 17.7s\n",
      "356:\tlearn: 0.2589133\ttotal: 9.83s\tremaining: 17.7s\n",
      "357:\tlearn: 0.2589027\ttotal: 9.87s\tremaining: 17.7s\n",
      "358:\tlearn: 0.2588886\ttotal: 9.9s\tremaining: 17.7s\n",
      "359:\tlearn: 0.2588708\ttotal: 9.94s\tremaining: 17.7s\n",
      "360:\tlearn: 0.2588518\ttotal: 9.97s\tremaining: 17.6s\n",
      "361:\tlearn: 0.2588310\ttotal: 10s\tremaining: 17.6s\n",
      "362:\tlearn: 0.2588115\ttotal: 10s\tremaining: 17.6s\n",
      "363:\tlearn: 0.2587932\ttotal: 10.1s\tremaining: 17.6s\n",
      "364:\tlearn: 0.2587819\ttotal: 10.1s\tremaining: 17.6s\n",
      "365:\tlearn: 0.2587727\ttotal: 10.1s\tremaining: 17.5s\n",
      "366:\tlearn: 0.2587568\ttotal: 10.2s\tremaining: 17.5s\n",
      "367:\tlearn: 0.2587392\ttotal: 10.2s\tremaining: 17.5s\n",
      "368:\tlearn: 0.2587229\ttotal: 10.2s\tremaining: 17.5s\n",
      "369:\tlearn: 0.2587083\ttotal: 10.3s\tremaining: 17.5s\n",
      "370:\tlearn: 0.2586890\ttotal: 10.3s\tremaining: 17.5s\n",
      "371:\tlearn: 0.2586757\ttotal: 10.3s\tremaining: 17.4s\n",
      "372:\tlearn: 0.2586600\ttotal: 10.4s\tremaining: 17.4s\n",
      "373:\tlearn: 0.2586484\ttotal: 10.4s\tremaining: 17.4s\n",
      "374:\tlearn: 0.2586372\ttotal: 10.4s\tremaining: 17.4s\n",
      "375:\tlearn: 0.2586253\ttotal: 10.5s\tremaining: 17.4s\n",
      "376:\tlearn: 0.2586092\ttotal: 10.5s\tremaining: 17.4s\n",
      "377:\tlearn: 0.2585955\ttotal: 10.5s\tremaining: 17.3s\n",
      "378:\tlearn: 0.2585861\ttotal: 10.6s\tremaining: 17.3s\n",
      "379:\tlearn: 0.2585680\ttotal: 10.6s\tremaining: 17.3s\n",
      "380:\tlearn: 0.2585527\ttotal: 10.6s\tremaining: 17.3s\n",
      "381:\tlearn: 0.2585393\ttotal: 10.7s\tremaining: 17.3s\n",
      "382:\tlearn: 0.2585221\ttotal: 10.7s\tremaining: 17.3s\n",
      "383:\tlearn: 0.2585088\ttotal: 10.8s\tremaining: 17.2s\n",
      "384:\tlearn: 0.2584981\ttotal: 10.8s\tremaining: 17.2s\n",
      "385:\tlearn: 0.2584790\ttotal: 10.8s\tremaining: 17.2s\n",
      "386:\tlearn: 0.2584664\ttotal: 10.9s\tremaining: 17.2s\n",
      "387:\tlearn: 0.2584501\ttotal: 10.9s\tremaining: 17.2s\n",
      "388:\tlearn: 0.2584358\ttotal: 10.9s\tremaining: 17.1s\n",
      "389:\tlearn: 0.2584186\ttotal: 10.9s\tremaining: 17.1s\n",
      "390:\tlearn: 0.2584042\ttotal: 11s\tremaining: 17.1s\n",
      "391:\tlearn: 0.2583906\ttotal: 11s\tremaining: 17.1s\n",
      "392:\tlearn: 0.2583804\ttotal: 11.1s\tremaining: 17.1s\n",
      "393:\tlearn: 0.2583685\ttotal: 11.1s\tremaining: 17s\n",
      "394:\tlearn: 0.2583486\ttotal: 11.1s\tremaining: 17s\n",
      "395:\tlearn: 0.2583362\ttotal: 11.1s\tremaining: 17s\n",
      "396:\tlearn: 0.2583212\ttotal: 11.2s\tremaining: 17s\n",
      "397:\tlearn: 0.2583032\ttotal: 11.2s\tremaining: 16.9s\n",
      "398:\tlearn: 0.2582830\ttotal: 11.2s\tremaining: 16.9s\n",
      "399:\tlearn: 0.2582688\ttotal: 11.3s\tremaining: 16.9s\n",
      "400:\tlearn: 0.2582544\ttotal: 11.3s\tremaining: 16.9s\n",
      "401:\tlearn: 0.2582416\ttotal: 11.3s\tremaining: 16.9s\n",
      "402:\tlearn: 0.2582235\ttotal: 11.4s\tremaining: 16.9s\n",
      "403:\tlearn: 0.2582066\ttotal: 11.4s\tremaining: 16.8s\n",
      "404:\tlearn: 0.2581960\ttotal: 11.4s\tremaining: 16.8s\n",
      "405:\tlearn: 0.2581832\ttotal: 11.5s\tremaining: 16.8s\n",
      "406:\tlearn: 0.2581687\ttotal: 11.5s\tremaining: 16.8s\n",
      "407:\tlearn: 0.2581510\ttotal: 11.5s\tremaining: 16.7s\n",
      "408:\tlearn: 0.2581332\ttotal: 11.6s\tremaining: 16.7s\n",
      "409:\tlearn: 0.2581208\ttotal: 11.6s\tremaining: 16.7s\n",
      "410:\tlearn: 0.2581125\ttotal: 11.6s\tremaining: 16.7s\n",
      "411:\tlearn: 0.2580987\ttotal: 11.7s\tremaining: 16.6s\n",
      "412:\tlearn: 0.2580861\ttotal: 11.7s\tremaining: 16.6s\n",
      "413:\tlearn: 0.2580680\ttotal: 11.7s\tremaining: 16.6s\n",
      "414:\tlearn: 0.2580517\ttotal: 11.8s\tremaining: 16.6s\n",
      "415:\tlearn: 0.2580404\ttotal: 11.8s\tremaining: 16.6s\n",
      "416:\tlearn: 0.2580202\ttotal: 11.8s\tremaining: 16.5s\n",
      "417:\tlearn: 0.2580052\ttotal: 11.9s\tremaining: 16.5s\n",
      "418:\tlearn: 0.2579937\ttotal: 11.9s\tremaining: 16.5s\n",
      "419:\tlearn: 0.2579727\ttotal: 11.9s\tremaining: 16.5s\n",
      "420:\tlearn: 0.2579554\ttotal: 12s\tremaining: 16.4s\n",
      "421:\tlearn: 0.2579436\ttotal: 12s\tremaining: 16.4s\n",
      "422:\tlearn: 0.2579235\ttotal: 12s\tremaining: 16.4s\n",
      "423:\tlearn: 0.2579019\ttotal: 12.1s\tremaining: 16.4s\n",
      "424:\tlearn: 0.2578806\ttotal: 12.1s\tremaining: 16.4s\n",
      "425:\tlearn: 0.2578628\ttotal: 12.1s\tremaining: 16.4s\n",
      "426:\tlearn: 0.2578515\ttotal: 12.2s\tremaining: 16.3s\n",
      "427:\tlearn: 0.2578373\ttotal: 12.2s\tremaining: 16.3s\n",
      "428:\tlearn: 0.2578270\ttotal: 12.2s\tremaining: 16.3s\n",
      "429:\tlearn: 0.2578196\ttotal: 12.3s\tremaining: 16.3s\n",
      "430:\tlearn: 0.2578031\ttotal: 12.3s\tremaining: 16.2s\n",
      "431:\tlearn: 0.2577888\ttotal: 12.3s\tremaining: 16.2s\n",
      "432:\tlearn: 0.2577752\ttotal: 12.4s\tremaining: 16.2s\n",
      "433:\tlearn: 0.2577616\ttotal: 12.4s\tremaining: 16.2s\n",
      "434:\tlearn: 0.2577503\ttotal: 12.4s\tremaining: 16.2s\n",
      "435:\tlearn: 0.2577289\ttotal: 12.5s\tremaining: 16.1s\n",
      "436:\tlearn: 0.2577153\ttotal: 12.5s\tremaining: 16.1s\n",
      "437:\tlearn: 0.2576972\ttotal: 12.6s\tremaining: 16.1s\n",
      "438:\tlearn: 0.2576805\ttotal: 12.6s\tremaining: 16.1s\n",
      "439:\tlearn: 0.2576660\ttotal: 12.6s\tremaining: 16.1s\n",
      "440:\tlearn: 0.2576432\ttotal: 12.7s\tremaining: 16s\n",
      "441:\tlearn: 0.2576267\ttotal: 12.7s\tremaining: 16s\n",
      "442:\tlearn: 0.2576132\ttotal: 12.7s\tremaining: 16s\n",
      "443:\tlearn: 0.2576035\ttotal: 12.8s\tremaining: 16s\n",
      "444:\tlearn: 0.2575922\ttotal: 12.8s\tremaining: 15.9s\n",
      "445:\tlearn: 0.2575806\ttotal: 12.8s\tremaining: 15.9s\n",
      "446:\tlearn: 0.2575710\ttotal: 12.8s\tremaining: 15.9s\n",
      "447:\tlearn: 0.2575549\ttotal: 12.9s\tremaining: 15.9s\n",
      "448:\tlearn: 0.2575398\ttotal: 12.9s\tremaining: 15.8s\n",
      "449:\tlearn: 0.2575293\ttotal: 12.9s\tremaining: 15.8s\n",
      "450:\tlearn: 0.2575215\ttotal: 13s\tremaining: 15.8s\n",
      "451:\tlearn: 0.2575093\ttotal: 13s\tremaining: 15.8s\n",
      "452:\tlearn: 0.2574942\ttotal: 13s\tremaining: 15.7s\n",
      "453:\tlearn: 0.2574833\ttotal: 13.1s\tremaining: 15.7s\n",
      "454:\tlearn: 0.2574679\ttotal: 13.1s\tremaining: 15.7s\n",
      "455:\tlearn: 0.2574443\ttotal: 13.1s\tremaining: 15.7s\n",
      "456:\tlearn: 0.2574317\ttotal: 13.2s\tremaining: 15.6s\n",
      "457:\tlearn: 0.2574174\ttotal: 13.2s\tremaining: 15.6s\n",
      "458:\tlearn: 0.2574024\ttotal: 13.2s\tremaining: 15.6s\n",
      "459:\tlearn: 0.2573948\ttotal: 13.2s\tremaining: 15.6s\n",
      "460:\tlearn: 0.2573787\ttotal: 13.3s\tremaining: 15.5s\n",
      "461:\tlearn: 0.2573643\ttotal: 13.3s\tremaining: 15.5s\n",
      "462:\tlearn: 0.2573549\ttotal: 13.3s\tremaining: 15.5s\n",
      "463:\tlearn: 0.2573398\ttotal: 13.4s\tremaining: 15.5s\n",
      "464:\tlearn: 0.2573214\ttotal: 13.4s\tremaining: 15.4s\n",
      "465:\tlearn: 0.2573098\ttotal: 13.5s\tremaining: 15.4s\n",
      "466:\tlearn: 0.2572918\ttotal: 13.5s\tremaining: 15.4s\n",
      "467:\tlearn: 0.2572772\ttotal: 13.5s\tremaining: 15.4s\n",
      "468:\tlearn: 0.2572510\ttotal: 13.5s\tremaining: 15.3s\n",
      "469:\tlearn: 0.2572348\ttotal: 13.6s\tremaining: 15.3s\n",
      "470:\tlearn: 0.2572197\ttotal: 13.6s\tremaining: 15.3s\n",
      "471:\tlearn: 0.2572028\ttotal: 13.6s\tremaining: 15.3s\n",
      "472:\tlearn: 0.2571913\ttotal: 13.7s\tremaining: 15.2s\n",
      "473:\tlearn: 0.2571759\ttotal: 13.7s\tremaining: 15.2s\n",
      "474:\tlearn: 0.2571598\ttotal: 13.7s\tremaining: 15.2s\n",
      "475:\tlearn: 0.2571486\ttotal: 13.8s\tremaining: 15.2s\n",
      "476:\tlearn: 0.2571372\ttotal: 13.8s\tremaining: 15.1s\n",
      "477:\tlearn: 0.2571284\ttotal: 13.8s\tremaining: 15.1s\n",
      "478:\tlearn: 0.2571188\ttotal: 13.8s\tremaining: 15.1s\n",
      "479:\tlearn: 0.2571095\ttotal: 13.9s\tremaining: 15s\n",
      "480:\tlearn: 0.2571027\ttotal: 13.9s\tremaining: 15s\n",
      "481:\tlearn: 0.2570825\ttotal: 13.9s\tremaining: 15s\n",
      "482:\tlearn: 0.2570647\ttotal: 14s\tremaining: 14.9s\n",
      "483:\tlearn: 0.2570468\ttotal: 14s\tremaining: 14.9s\n",
      "484:\tlearn: 0.2570285\ttotal: 14s\tremaining: 14.9s\n",
      "485:\tlearn: 0.2570190\ttotal: 14.1s\tremaining: 14.9s\n",
      "486:\tlearn: 0.2570024\ttotal: 14.1s\tremaining: 14.8s\n",
      "487:\tlearn: 0.2569825\ttotal: 14.1s\tremaining: 14.8s\n",
      "488:\tlearn: 0.2569617\ttotal: 14.2s\tremaining: 14.8s\n",
      "489:\tlearn: 0.2569459\ttotal: 14.2s\tremaining: 14.8s\n",
      "490:\tlearn: 0.2569348\ttotal: 14.2s\tremaining: 14.7s\n",
      "491:\tlearn: 0.2569226\ttotal: 14.2s\tremaining: 14.7s\n",
      "492:\tlearn: 0.2569114\ttotal: 14.3s\tremaining: 14.7s\n",
      "493:\tlearn: 0.2568889\ttotal: 14.3s\tremaining: 14.6s\n",
      "494:\tlearn: 0.2568759\ttotal: 14.3s\tremaining: 14.6s\n",
      "495:\tlearn: 0.2568644\ttotal: 14.4s\tremaining: 14.6s\n",
      "496:\tlearn: 0.2568515\ttotal: 14.4s\tremaining: 14.6s\n",
      "497:\tlearn: 0.2568372\ttotal: 14.4s\tremaining: 14.5s\n",
      "498:\tlearn: 0.2568264\ttotal: 14.4s\tremaining: 14.5s\n",
      "499:\tlearn: 0.2568169\ttotal: 14.5s\tremaining: 14.5s\n",
      "500:\tlearn: 0.2567977\ttotal: 14.5s\tremaining: 14.5s\n",
      "501:\tlearn: 0.2567791\ttotal: 14.5s\tremaining: 14.4s\n",
      "502:\tlearn: 0.2567652\ttotal: 14.6s\tremaining: 14.4s\n",
      "503:\tlearn: 0.2567533\ttotal: 14.6s\tremaining: 14.4s\n",
      "504:\tlearn: 0.2567396\ttotal: 14.6s\tremaining: 14.4s\n",
      "505:\tlearn: 0.2567251\ttotal: 14.7s\tremaining: 14.3s\n",
      "506:\tlearn: 0.2567108\ttotal: 14.7s\tremaining: 14.3s\n",
      "507:\tlearn: 0.2566964\ttotal: 14.7s\tremaining: 14.3s\n",
      "508:\tlearn: 0.2566889\ttotal: 14.8s\tremaining: 14.3s\n",
      "509:\tlearn: 0.2566761\ttotal: 14.8s\tremaining: 14.2s\n",
      "510:\tlearn: 0.2566627\ttotal: 14.8s\tremaining: 14.2s\n",
      "511:\tlearn: 0.2566487\ttotal: 14.9s\tremaining: 14.2s\n",
      "512:\tlearn: 0.2566353\ttotal: 14.9s\tremaining: 14.1s\n",
      "513:\tlearn: 0.2566172\ttotal: 14.9s\tremaining: 14.1s\n",
      "514:\tlearn: 0.2566030\ttotal: 15s\tremaining: 14.1s\n",
      "515:\tlearn: 0.2565867\ttotal: 15s\tremaining: 14.1s\n",
      "516:\tlearn: 0.2565696\ttotal: 15s\tremaining: 14s\n",
      "517:\tlearn: 0.2565613\ttotal: 15.1s\tremaining: 14s\n",
      "518:\tlearn: 0.2565467\ttotal: 15.1s\tremaining: 14s\n",
      "519:\tlearn: 0.2565283\ttotal: 15.1s\tremaining: 14s\n",
      "520:\tlearn: 0.2565103\ttotal: 15.2s\tremaining: 13.9s\n",
      "521:\tlearn: 0.2564907\ttotal: 15.2s\tremaining: 13.9s\n",
      "522:\tlearn: 0.2564801\ttotal: 15.2s\tremaining: 13.9s\n",
      "523:\tlearn: 0.2564636\ttotal: 15.2s\tremaining: 13.8s\n",
      "524:\tlearn: 0.2564514\ttotal: 15.3s\tremaining: 13.8s\n",
      "525:\tlearn: 0.2564364\ttotal: 15.3s\tremaining: 13.8s\n",
      "526:\tlearn: 0.2564242\ttotal: 15.3s\tremaining: 13.8s\n",
      "527:\tlearn: 0.2564127\ttotal: 15.4s\tremaining: 13.8s\n",
      "528:\tlearn: 0.2564040\ttotal: 15.4s\tremaining: 13.7s\n",
      "529:\tlearn: 0.2563869\ttotal: 15.5s\tremaining: 13.7s\n",
      "530:\tlearn: 0.2563768\ttotal: 15.5s\tremaining: 13.7s\n",
      "531:\tlearn: 0.2563625\ttotal: 15.5s\tremaining: 13.7s\n",
      "532:\tlearn: 0.2563481\ttotal: 15.6s\tremaining: 13.7s\n",
      "533:\tlearn: 0.2563364\ttotal: 15.6s\tremaining: 13.6s\n",
      "534:\tlearn: 0.2563246\ttotal: 15.7s\tremaining: 13.6s\n",
      "535:\tlearn: 0.2563083\ttotal: 15.7s\tremaining: 13.6s\n",
      "536:\tlearn: 0.2562937\ttotal: 15.7s\tremaining: 13.6s\n",
      "537:\tlearn: 0.2562813\ttotal: 15.8s\tremaining: 13.5s\n",
      "538:\tlearn: 0.2562725\ttotal: 15.8s\tremaining: 13.5s\n",
      "539:\tlearn: 0.2562589\ttotal: 15.8s\tremaining: 13.5s\n",
      "540:\tlearn: 0.2562468\ttotal: 15.9s\tremaining: 13.4s\n",
      "541:\tlearn: 0.2562375\ttotal: 15.9s\tremaining: 13.4s\n",
      "542:\tlearn: 0.2562244\ttotal: 15.9s\tremaining: 13.4s\n",
      "543:\tlearn: 0.2562107\ttotal: 15.9s\tremaining: 13.4s\n",
      "544:\tlearn: 0.2561990\ttotal: 16s\tremaining: 13.3s\n",
      "545:\tlearn: 0.2561862\ttotal: 16s\tremaining: 13.3s\n",
      "546:\tlearn: 0.2561785\ttotal: 16s\tremaining: 13.3s\n",
      "547:\tlearn: 0.2561652\ttotal: 16.1s\tremaining: 13.2s\n",
      "548:\tlearn: 0.2561542\ttotal: 16.1s\tremaining: 13.2s\n",
      "549:\tlearn: 0.2561378\ttotal: 16.1s\tremaining: 13.2s\n",
      "550:\tlearn: 0.2561270\ttotal: 16.2s\tremaining: 13.2s\n",
      "551:\tlearn: 0.2561119\ttotal: 16.2s\tremaining: 13.1s\n",
      "552:\tlearn: 0.2561016\ttotal: 16.2s\tremaining: 13.1s\n",
      "553:\tlearn: 0.2560888\ttotal: 16.3s\tremaining: 13.1s\n",
      "554:\tlearn: 0.2560718\ttotal: 16.3s\tremaining: 13.1s\n",
      "555:\tlearn: 0.2560528\ttotal: 16.4s\tremaining: 13.1s\n",
      "556:\tlearn: 0.2560350\ttotal: 16.4s\tremaining: 13.1s\n",
      "557:\tlearn: 0.2560217\ttotal: 16.5s\tremaining: 13s\n",
      "558:\tlearn: 0.2560117\ttotal: 16.5s\tremaining: 13s\n",
      "559:\tlearn: 0.2559970\ttotal: 16.5s\tremaining: 13s\n",
      "560:\tlearn: 0.2559848\ttotal: 16.6s\tremaining: 13s\n",
      "561:\tlearn: 0.2559737\ttotal: 16.6s\tremaining: 12.9s\n",
      "562:\tlearn: 0.2559574\ttotal: 16.6s\tremaining: 12.9s\n",
      "563:\tlearn: 0.2559391\ttotal: 16.7s\tremaining: 12.9s\n",
      "564:\tlearn: 0.2559257\ttotal: 16.7s\tremaining: 12.8s\n",
      "565:\tlearn: 0.2559141\ttotal: 16.7s\tremaining: 12.8s\n",
      "566:\tlearn: 0.2558977\ttotal: 16.7s\tremaining: 12.8s\n",
      "567:\tlearn: 0.2558822\ttotal: 16.8s\tremaining: 12.8s\n",
      "568:\tlearn: 0.2558662\ttotal: 16.8s\tremaining: 12.7s\n",
      "569:\tlearn: 0.2558448\ttotal: 16.8s\tremaining: 12.7s\n",
      "570:\tlearn: 0.2558357\ttotal: 16.9s\tremaining: 12.7s\n",
      "571:\tlearn: 0.2558240\ttotal: 16.9s\tremaining: 12.7s\n",
      "572:\tlearn: 0.2558120\ttotal: 17s\tremaining: 12.6s\n",
      "573:\tlearn: 0.2558002\ttotal: 17s\tremaining: 12.6s\n",
      "574:\tlearn: 0.2557909\ttotal: 17s\tremaining: 12.6s\n",
      "575:\tlearn: 0.2557743\ttotal: 17.1s\tremaining: 12.6s\n",
      "576:\tlearn: 0.2557617\ttotal: 17.1s\tremaining: 12.5s\n",
      "577:\tlearn: 0.2557462\ttotal: 17.1s\tremaining: 12.5s\n",
      "578:\tlearn: 0.2557316\ttotal: 17.2s\tremaining: 12.5s\n",
      "579:\tlearn: 0.2557222\ttotal: 17.2s\tremaining: 12.5s\n",
      "580:\tlearn: 0.2557047\ttotal: 17.2s\tremaining: 12.4s\n",
      "581:\tlearn: 0.2556924\ttotal: 17.3s\tremaining: 12.4s\n",
      "582:\tlearn: 0.2556803\ttotal: 17.3s\tremaining: 12.4s\n",
      "583:\tlearn: 0.2556627\ttotal: 17.4s\tremaining: 12.4s\n",
      "584:\tlearn: 0.2556455\ttotal: 17.4s\tremaining: 12.3s\n",
      "585:\tlearn: 0.2556312\ttotal: 17.4s\tremaining: 12.3s\n",
      "586:\tlearn: 0.2556223\ttotal: 17.5s\tremaining: 12.3s\n",
      "587:\tlearn: 0.2556105\ttotal: 17.5s\tremaining: 12.3s\n",
      "588:\tlearn: 0.2556007\ttotal: 17.6s\tremaining: 12.3s\n",
      "589:\tlearn: 0.2555844\ttotal: 17.6s\tremaining: 12.2s\n",
      "590:\tlearn: 0.2555665\ttotal: 17.6s\tremaining: 12.2s\n",
      "591:\tlearn: 0.2555548\ttotal: 17.7s\tremaining: 12.2s\n",
      "592:\tlearn: 0.2555446\ttotal: 17.7s\tremaining: 12.1s\n",
      "593:\tlearn: 0.2555302\ttotal: 17.7s\tremaining: 12.1s\n",
      "594:\tlearn: 0.2555195\ttotal: 17.7s\tremaining: 12.1s\n",
      "595:\tlearn: 0.2555040\ttotal: 17.8s\tremaining: 12.1s\n",
      "596:\tlearn: 0.2554932\ttotal: 17.8s\tremaining: 12s\n",
      "597:\tlearn: 0.2554842\ttotal: 17.8s\tremaining: 12s\n",
      "598:\tlearn: 0.2554716\ttotal: 17.9s\tremaining: 12s\n",
      "599:\tlearn: 0.2554566\ttotal: 17.9s\tremaining: 11.9s\n",
      "600:\tlearn: 0.2554423\ttotal: 17.9s\tremaining: 11.9s\n",
      "601:\tlearn: 0.2554283\ttotal: 18s\tremaining: 11.9s\n",
      "602:\tlearn: 0.2554205\ttotal: 18s\tremaining: 11.9s\n",
      "603:\tlearn: 0.2554108\ttotal: 18.1s\tremaining: 11.8s\n",
      "604:\tlearn: 0.2553951\ttotal: 18.1s\tremaining: 11.8s\n",
      "605:\tlearn: 0.2553843\ttotal: 18.1s\tremaining: 11.8s\n",
      "606:\tlearn: 0.2553668\ttotal: 18.2s\tremaining: 11.8s\n",
      "607:\tlearn: 0.2553577\ttotal: 18.2s\tremaining: 11.7s\n",
      "608:\tlearn: 0.2553459\ttotal: 18.2s\tremaining: 11.7s\n",
      "609:\tlearn: 0.2553313\ttotal: 18.3s\tremaining: 11.7s\n",
      "610:\tlearn: 0.2553164\ttotal: 18.3s\tremaining: 11.7s\n",
      "611:\tlearn: 0.2552968\ttotal: 18.3s\tremaining: 11.6s\n",
      "612:\tlearn: 0.2552840\ttotal: 18.4s\tremaining: 11.6s\n",
      "613:\tlearn: 0.2552704\ttotal: 18.4s\tremaining: 11.6s\n",
      "614:\tlearn: 0.2552573\ttotal: 18.4s\tremaining: 11.5s\n",
      "615:\tlearn: 0.2552409\ttotal: 18.5s\tremaining: 11.5s\n",
      "616:\tlearn: 0.2552304\ttotal: 18.5s\tremaining: 11.5s\n",
      "617:\tlearn: 0.2552163\ttotal: 18.5s\tremaining: 11.5s\n",
      "618:\tlearn: 0.2551981\ttotal: 18.6s\tremaining: 11.4s\n",
      "619:\tlearn: 0.2551862\ttotal: 18.6s\tremaining: 11.4s\n",
      "620:\tlearn: 0.2551696\ttotal: 18.6s\tremaining: 11.4s\n",
      "621:\tlearn: 0.2551542\ttotal: 18.7s\tremaining: 11.3s\n",
      "622:\tlearn: 0.2551451\ttotal: 18.7s\tremaining: 11.3s\n",
      "623:\tlearn: 0.2551298\ttotal: 18.7s\tremaining: 11.3s\n",
      "624:\tlearn: 0.2551180\ttotal: 18.7s\tremaining: 11.2s\n",
      "625:\tlearn: 0.2551074\ttotal: 18.8s\tremaining: 11.2s\n",
      "626:\tlearn: 0.2550937\ttotal: 18.8s\tremaining: 11.2s\n",
      "627:\tlearn: 0.2550818\ttotal: 18.8s\tremaining: 11.2s\n",
      "628:\tlearn: 0.2550660\ttotal: 18.9s\tremaining: 11.1s\n",
      "629:\tlearn: 0.2550533\ttotal: 18.9s\tremaining: 11.1s\n",
      "630:\tlearn: 0.2550388\ttotal: 18.9s\tremaining: 11.1s\n",
      "631:\tlearn: 0.2550275\ttotal: 18.9s\tremaining: 11s\n",
      "632:\tlearn: 0.2550202\ttotal: 19s\tremaining: 11s\n",
      "633:\tlearn: 0.2550059\ttotal: 19s\tremaining: 11s\n",
      "634:\tlearn: 0.2549881\ttotal: 19.1s\tremaining: 11s\n",
      "635:\tlearn: 0.2549701\ttotal: 19.1s\tremaining: 10.9s\n",
      "636:\tlearn: 0.2549571\ttotal: 19.1s\tremaining: 10.9s\n",
      "637:\tlearn: 0.2549454\ttotal: 19.2s\tremaining: 10.9s\n",
      "638:\tlearn: 0.2549366\ttotal: 19.2s\tremaining: 10.8s\n",
      "639:\tlearn: 0.2549212\ttotal: 19.2s\tremaining: 10.8s\n",
      "640:\tlearn: 0.2549068\ttotal: 19.2s\tremaining: 10.8s\n",
      "641:\tlearn: 0.2548966\ttotal: 19.3s\tremaining: 10.7s\n",
      "642:\tlearn: 0.2548850\ttotal: 19.3s\tremaining: 10.7s\n",
      "643:\tlearn: 0.2548670\ttotal: 19.3s\tremaining: 10.7s\n",
      "644:\tlearn: 0.2548553\ttotal: 19.4s\tremaining: 10.7s\n",
      "645:\tlearn: 0.2548427\ttotal: 19.4s\tremaining: 10.6s\n",
      "646:\tlearn: 0.2548288\ttotal: 19.5s\tremaining: 10.6s\n",
      "647:\tlearn: 0.2548165\ttotal: 19.5s\tremaining: 10.6s\n",
      "648:\tlearn: 0.2548055\ttotal: 19.5s\tremaining: 10.6s\n",
      "649:\tlearn: 0.2547943\ttotal: 19.6s\tremaining: 10.5s\n",
      "650:\tlearn: 0.2547816\ttotal: 19.6s\tremaining: 10.5s\n",
      "651:\tlearn: 0.2547685\ttotal: 19.6s\tremaining: 10.5s\n",
      "652:\tlearn: 0.2547592\ttotal: 19.6s\tremaining: 10.4s\n",
      "653:\tlearn: 0.2547444\ttotal: 19.7s\tremaining: 10.4s\n",
      "654:\tlearn: 0.2547314\ttotal: 19.7s\tremaining: 10.4s\n",
      "655:\tlearn: 0.2547180\ttotal: 19.7s\tremaining: 10.4s\n",
      "656:\tlearn: 0.2547014\ttotal: 19.8s\tremaining: 10.3s\n",
      "657:\tlearn: 0.2546869\ttotal: 19.8s\tremaining: 10.3s\n",
      "658:\tlearn: 0.2546751\ttotal: 19.8s\tremaining: 10.3s\n",
      "659:\tlearn: 0.2546633\ttotal: 19.9s\tremaining: 10.2s\n",
      "660:\tlearn: 0.2546527\ttotal: 19.9s\tremaining: 10.2s\n",
      "661:\tlearn: 0.2546408\ttotal: 19.9s\tremaining: 10.2s\n",
      "662:\tlearn: 0.2546339\ttotal: 20s\tremaining: 10.1s\n",
      "663:\tlearn: 0.2546241\ttotal: 20s\tremaining: 10.1s\n",
      "664:\tlearn: 0.2546145\ttotal: 20.1s\tremaining: 10.1s\n",
      "665:\tlearn: 0.2545997\ttotal: 20.1s\tremaining: 10.1s\n",
      "666:\tlearn: 0.2545864\ttotal: 20.2s\tremaining: 10.1s\n",
      "667:\tlearn: 0.2545704\ttotal: 20.2s\tremaining: 10s\n",
      "668:\tlearn: 0.2545610\ttotal: 20.3s\tremaining: 10s\n",
      "669:\tlearn: 0.2545560\ttotal: 20.3s\tremaining: 10s\n",
      "670:\tlearn: 0.2545469\ttotal: 20.4s\tremaining: 9.98s\n",
      "671:\tlearn: 0.2545372\ttotal: 20.4s\tremaining: 9.95s\n",
      "672:\tlearn: 0.2545255\ttotal: 20.4s\tremaining: 9.93s\n",
      "673:\tlearn: 0.2545143\ttotal: 20.5s\tremaining: 9.9s\n",
      "674:\tlearn: 0.2545012\ttotal: 20.5s\tremaining: 9.87s\n",
      "675:\tlearn: 0.2544872\ttotal: 20.5s\tremaining: 9.84s\n",
      "676:\tlearn: 0.2544753\ttotal: 20.6s\tremaining: 9.81s\n",
      "677:\tlearn: 0.2544629\ttotal: 20.6s\tremaining: 9.78s\n",
      "678:\tlearn: 0.2544505\ttotal: 20.6s\tremaining: 9.75s\n",
      "679:\tlearn: 0.2544315\ttotal: 20.7s\tremaining: 9.72s\n",
      "680:\tlearn: 0.2544140\ttotal: 20.7s\tremaining: 9.69s\n",
      "681:\tlearn: 0.2543987\ttotal: 20.7s\tremaining: 9.66s\n",
      "682:\tlearn: 0.2543871\ttotal: 20.7s\tremaining: 9.63s\n",
      "683:\tlearn: 0.2543708\ttotal: 20.8s\tremaining: 9.6s\n",
      "684:\tlearn: 0.2543619\ttotal: 20.8s\tremaining: 9.58s\n",
      "685:\tlearn: 0.2543449\ttotal: 20.9s\tremaining: 9.55s\n",
      "686:\tlearn: 0.2543342\ttotal: 20.9s\tremaining: 9.53s\n",
      "687:\tlearn: 0.2543207\ttotal: 20.9s\tremaining: 9.5s\n",
      "688:\tlearn: 0.2543149\ttotal: 21s\tremaining: 9.47s\n",
      "689:\tlearn: 0.2543018\ttotal: 21s\tremaining: 9.44s\n",
      "690:\tlearn: 0.2542904\ttotal: 21.1s\tremaining: 9.42s\n",
      "691:\tlearn: 0.2542803\ttotal: 21.1s\tremaining: 9.39s\n",
      "692:\tlearn: 0.2542665\ttotal: 21.1s\tremaining: 9.36s\n",
      "693:\tlearn: 0.2542557\ttotal: 21.2s\tremaining: 9.33s\n",
      "694:\tlearn: 0.2542464\ttotal: 21.2s\tremaining: 9.31s\n",
      "695:\tlearn: 0.2542265\ttotal: 21.2s\tremaining: 9.28s\n",
      "696:\tlearn: 0.2542053\ttotal: 21.3s\tremaining: 9.25s\n",
      "697:\tlearn: 0.2541914\ttotal: 21.3s\tremaining: 9.22s\n",
      "698:\tlearn: 0.2541833\ttotal: 21.3s\tremaining: 9.19s\n",
      "699:\tlearn: 0.2541706\ttotal: 21.4s\tremaining: 9.16s\n",
      "700:\tlearn: 0.2541636\ttotal: 21.4s\tremaining: 9.13s\n",
      "701:\tlearn: 0.2541508\ttotal: 21.4s\tremaining: 9.1s\n",
      "702:\tlearn: 0.2541363\ttotal: 21.5s\tremaining: 9.07s\n",
      "703:\tlearn: 0.2541245\ttotal: 21.5s\tremaining: 9.04s\n",
      "704:\tlearn: 0.2541109\ttotal: 21.5s\tremaining: 9.02s\n",
      "705:\tlearn: 0.2540934\ttotal: 21.6s\tremaining: 8.99s\n",
      "706:\tlearn: 0.2540785\ttotal: 21.6s\tremaining: 8.96s\n",
      "707:\tlearn: 0.2540677\ttotal: 21.7s\tremaining: 8.93s\n",
      "708:\tlearn: 0.2540552\ttotal: 21.7s\tremaining: 8.9s\n",
      "709:\tlearn: 0.2540446\ttotal: 21.7s\tremaining: 8.88s\n",
      "710:\tlearn: 0.2540249\ttotal: 21.8s\tremaining: 8.87s\n",
      "711:\tlearn: 0.2540124\ttotal: 21.9s\tremaining: 8.85s\n",
      "712:\tlearn: 0.2539939\ttotal: 21.9s\tremaining: 8.82s\n",
      "713:\tlearn: 0.2539824\ttotal: 21.9s\tremaining: 8.79s\n",
      "714:\tlearn: 0.2539638\ttotal: 22s\tremaining: 8.76s\n",
      "715:\tlearn: 0.2539504\ttotal: 22s\tremaining: 8.73s\n",
      "716:\tlearn: 0.2539439\ttotal: 22.1s\tremaining: 8.71s\n",
      "717:\tlearn: 0.2539276\ttotal: 22.1s\tremaining: 8.68s\n",
      "718:\tlearn: 0.2539126\ttotal: 22.1s\tremaining: 8.65s\n",
      "719:\tlearn: 0.2539019\ttotal: 22.2s\tremaining: 8.62s\n",
      "720:\tlearn: 0.2538923\ttotal: 22.2s\tremaining: 8.59s\n",
      "721:\tlearn: 0.2538760\ttotal: 22.2s\tremaining: 8.56s\n",
      "722:\tlearn: 0.2538707\ttotal: 22.3s\tremaining: 8.53s\n",
      "723:\tlearn: 0.2538569\ttotal: 22.3s\tremaining: 8.5s\n",
      "724:\tlearn: 0.2538437\ttotal: 22.3s\tremaining: 8.47s\n",
      "725:\tlearn: 0.2538343\ttotal: 22.4s\tremaining: 8.44s\n",
      "726:\tlearn: 0.2538167\ttotal: 22.4s\tremaining: 8.41s\n",
      "727:\tlearn: 0.2538022\ttotal: 22.4s\tremaining: 8.38s\n",
      "728:\tlearn: 0.2537893\ttotal: 22.5s\tremaining: 8.35s\n",
      "729:\tlearn: 0.2537777\ttotal: 22.5s\tremaining: 8.32s\n",
      "730:\tlearn: 0.2537633\ttotal: 22.5s\tremaining: 8.29s\n",
      "731:\tlearn: 0.2537472\ttotal: 22.6s\tremaining: 8.26s\n",
      "732:\tlearn: 0.2537333\ttotal: 22.6s\tremaining: 8.24s\n",
      "733:\tlearn: 0.2537177\ttotal: 22.6s\tremaining: 8.21s\n",
      "734:\tlearn: 0.2537062\ttotal: 22.7s\tremaining: 8.18s\n",
      "735:\tlearn: 0.2536938\ttotal: 22.7s\tremaining: 8.15s\n",
      "736:\tlearn: 0.2536772\ttotal: 22.8s\tremaining: 8.12s\n",
      "737:\tlearn: 0.2536643\ttotal: 22.8s\tremaining: 8.1s\n",
      "738:\tlearn: 0.2536534\ttotal: 22.9s\tremaining: 8.07s\n",
      "739:\tlearn: 0.2536430\ttotal: 22.9s\tremaining: 8.05s\n",
      "740:\tlearn: 0.2536337\ttotal: 23s\tremaining: 8.02s\n",
      "741:\tlearn: 0.2536231\ttotal: 23s\tremaining: 7.99s\n",
      "742:\tlearn: 0.2536112\ttotal: 23s\tremaining: 7.96s\n",
      "743:\tlearn: 0.2535980\ttotal: 23.1s\tremaining: 7.93s\n",
      "744:\tlearn: 0.2535902\ttotal: 23.1s\tremaining: 7.9s\n",
      "745:\tlearn: 0.2535747\ttotal: 23.1s\tremaining: 7.87s\n",
      "746:\tlearn: 0.2535587\ttotal: 23.1s\tremaining: 7.84s\n",
      "747:\tlearn: 0.2535473\ttotal: 23.2s\tremaining: 7.81s\n",
      "748:\tlearn: 0.2535406\ttotal: 23.2s\tremaining: 7.78s\n",
      "749:\tlearn: 0.2535251\ttotal: 23.2s\tremaining: 7.74s\n",
      "750:\tlearn: 0.2535154\ttotal: 23.3s\tremaining: 7.71s\n",
      "751:\tlearn: 0.2535085\ttotal: 23.3s\tremaining: 7.68s\n",
      "752:\tlearn: 0.2534995\ttotal: 23.3s\tremaining: 7.65s\n",
      "753:\tlearn: 0.2534908\ttotal: 23.4s\tremaining: 7.62s\n",
      "754:\tlearn: 0.2534772\ttotal: 23.4s\tremaining: 7.59s\n",
      "755:\tlearn: 0.2534647\ttotal: 23.4s\tremaining: 7.56s\n",
      "756:\tlearn: 0.2534468\ttotal: 23.5s\tremaining: 7.53s\n",
      "757:\tlearn: 0.2534293\ttotal: 23.5s\tremaining: 7.5s\n",
      "758:\tlearn: 0.2534193\ttotal: 23.5s\tremaining: 7.47s\n",
      "759:\tlearn: 0.2534077\ttotal: 23.6s\tremaining: 7.44s\n",
      "760:\tlearn: 0.2533957\ttotal: 23.6s\tremaining: 7.41s\n",
      "761:\tlearn: 0.2533777\ttotal: 23.6s\tremaining: 7.38s\n",
      "762:\tlearn: 0.2533699\ttotal: 23.7s\tremaining: 7.35s\n",
      "763:\tlearn: 0.2533594\ttotal: 23.7s\tremaining: 7.33s\n",
      "764:\tlearn: 0.2533431\ttotal: 23.8s\tremaining: 7.3s\n",
      "765:\tlearn: 0.2533352\ttotal: 23.8s\tremaining: 7.27s\n",
      "766:\tlearn: 0.2533257\ttotal: 23.8s\tremaining: 7.24s\n",
      "767:\tlearn: 0.2533177\ttotal: 23.9s\tremaining: 7.21s\n",
      "768:\tlearn: 0.2533085\ttotal: 23.9s\tremaining: 7.18s\n",
      "769:\tlearn: 0.2533021\ttotal: 24s\tremaining: 7.15s\n",
      "770:\tlearn: 0.2532936\ttotal: 24s\tremaining: 7.12s\n",
      "771:\tlearn: 0.2532877\ttotal: 24s\tremaining: 7.09s\n",
      "772:\tlearn: 0.2532801\ttotal: 24.1s\tremaining: 7.06s\n",
      "773:\tlearn: 0.2532678\ttotal: 24.1s\tremaining: 7.03s\n",
      "774:\tlearn: 0.2532552\ttotal: 24.2s\tremaining: 7.01s\n",
      "775:\tlearn: 0.2532431\ttotal: 24.2s\tremaining: 6.98s\n",
      "776:\tlearn: 0.2532297\ttotal: 24.3s\tremaining: 6.97s\n",
      "777:\tlearn: 0.2532182\ttotal: 24.3s\tremaining: 6.95s\n",
      "778:\tlearn: 0.2532036\ttotal: 24.4s\tremaining: 6.92s\n",
      "779:\tlearn: 0.2531931\ttotal: 24.4s\tremaining: 6.89s\n",
      "780:\tlearn: 0.2531814\ttotal: 24.5s\tremaining: 6.86s\n",
      "781:\tlearn: 0.2531710\ttotal: 24.5s\tremaining: 6.83s\n",
      "782:\tlearn: 0.2531640\ttotal: 24.6s\tremaining: 6.8s\n",
      "783:\tlearn: 0.2531554\ttotal: 24.6s\tremaining: 6.78s\n",
      "784:\tlearn: 0.2531370\ttotal: 24.6s\tremaining: 6.75s\n",
      "785:\tlearn: 0.2531282\ttotal: 24.7s\tremaining: 6.72s\n",
      "786:\tlearn: 0.2531183\ttotal: 24.7s\tremaining: 6.69s\n",
      "787:\tlearn: 0.2531056\ttotal: 24.8s\tremaining: 6.66s\n",
      "788:\tlearn: 0.2530959\ttotal: 24.8s\tremaining: 6.63s\n",
      "789:\tlearn: 0.2530848\ttotal: 24.9s\tremaining: 6.61s\n",
      "790:\tlearn: 0.2530705\ttotal: 24.9s\tremaining: 6.58s\n",
      "791:\tlearn: 0.2530572\ttotal: 24.9s\tremaining: 6.55s\n",
      "792:\tlearn: 0.2530440\ttotal: 25s\tremaining: 6.52s\n",
      "793:\tlearn: 0.2530341\ttotal: 25s\tremaining: 6.49s\n",
      "794:\tlearn: 0.2530246\ttotal: 25.1s\tremaining: 6.46s\n",
      "795:\tlearn: 0.2530129\ttotal: 25.1s\tremaining: 6.44s\n",
      "796:\tlearn: 0.2529980\ttotal: 25.2s\tremaining: 6.41s\n",
      "797:\tlearn: 0.2529772\ttotal: 25.2s\tremaining: 6.38s\n",
      "798:\tlearn: 0.2529612\ttotal: 25.2s\tremaining: 6.35s\n",
      "799:\tlearn: 0.2529430\ttotal: 25.3s\tremaining: 6.32s\n",
      "800:\tlearn: 0.2529306\ttotal: 25.3s\tremaining: 6.3s\n",
      "801:\tlearn: 0.2529149\ttotal: 25.4s\tremaining: 6.27s\n",
      "802:\tlearn: 0.2529039\ttotal: 25.4s\tremaining: 6.24s\n",
      "803:\tlearn: 0.2528912\ttotal: 25.5s\tremaining: 6.21s\n",
      "804:\tlearn: 0.2528816\ttotal: 25.5s\tremaining: 6.18s\n",
      "805:\tlearn: 0.2528682\ttotal: 25.5s\tremaining: 6.15s\n",
      "806:\tlearn: 0.2528568\ttotal: 25.6s\tremaining: 6.12s\n",
      "807:\tlearn: 0.2528487\ttotal: 25.6s\tremaining: 6.08s\n",
      "808:\tlearn: 0.2528383\ttotal: 25.6s\tremaining: 6.05s\n",
      "809:\tlearn: 0.2528267\ttotal: 25.7s\tremaining: 6.02s\n",
      "810:\tlearn: 0.2528192\ttotal: 25.7s\tremaining: 5.99s\n",
      "811:\tlearn: 0.2528060\ttotal: 25.7s\tremaining: 5.96s\n",
      "812:\tlearn: 0.2527879\ttotal: 25.8s\tremaining: 5.93s\n",
      "813:\tlearn: 0.2527765\ttotal: 25.8s\tremaining: 5.9s\n",
      "814:\tlearn: 0.2527619\ttotal: 25.9s\tremaining: 5.87s\n",
      "815:\tlearn: 0.2527495\ttotal: 25.9s\tremaining: 5.84s\n",
      "816:\tlearn: 0.2527385\ttotal: 25.9s\tremaining: 5.81s\n",
      "817:\tlearn: 0.2527292\ttotal: 26s\tremaining: 5.79s\n",
      "818:\tlearn: 0.2527125\ttotal: 26s\tremaining: 5.75s\n",
      "819:\tlearn: 0.2527046\ttotal: 26.1s\tremaining: 5.73s\n",
      "820:\tlearn: 0.2526930\ttotal: 26.1s\tremaining: 5.7s\n",
      "821:\tlearn: 0.2526746\ttotal: 26.2s\tremaining: 5.66s\n",
      "822:\tlearn: 0.2526645\ttotal: 26.2s\tremaining: 5.63s\n",
      "823:\tlearn: 0.2526492\ttotal: 26.2s\tremaining: 5.6s\n",
      "824:\tlearn: 0.2526438\ttotal: 26.3s\tremaining: 5.57s\n",
      "825:\tlearn: 0.2526311\ttotal: 26.3s\tremaining: 5.54s\n",
      "826:\tlearn: 0.2526193\ttotal: 26.3s\tremaining: 5.51s\n",
      "827:\tlearn: 0.2526071\ttotal: 26.4s\tremaining: 5.48s\n",
      "828:\tlearn: 0.2525960\ttotal: 26.4s\tremaining: 5.45s\n",
      "829:\tlearn: 0.2525859\ttotal: 26.4s\tremaining: 5.42s\n",
      "830:\tlearn: 0.2525767\ttotal: 26.5s\tremaining: 5.38s\n",
      "831:\tlearn: 0.2525677\ttotal: 26.5s\tremaining: 5.36s\n",
      "832:\tlearn: 0.2525569\ttotal: 26.6s\tremaining: 5.34s\n",
      "833:\tlearn: 0.2525402\ttotal: 26.7s\tremaining: 5.31s\n",
      "834:\tlearn: 0.2525324\ttotal: 26.7s\tremaining: 5.28s\n",
      "835:\tlearn: 0.2525167\ttotal: 26.9s\tremaining: 5.27s\n",
      "836:\tlearn: 0.2525023\ttotal: 27s\tremaining: 5.25s\n",
      "837:\tlearn: 0.2524849\ttotal: 27s\tremaining: 5.22s\n",
      "838:\tlearn: 0.2524760\ttotal: 27.1s\tremaining: 5.19s\n",
      "839:\tlearn: 0.2524627\ttotal: 27.1s\tremaining: 5.16s\n",
      "840:\tlearn: 0.2524529\ttotal: 27.1s\tremaining: 5.13s\n",
      "841:\tlearn: 0.2524428\ttotal: 27.2s\tremaining: 5.09s\n",
      "842:\tlearn: 0.2524282\ttotal: 27.2s\tremaining: 5.06s\n",
      "843:\tlearn: 0.2524215\ttotal: 27.2s\tremaining: 5.03s\n",
      "844:\tlearn: 0.2524052\ttotal: 27.3s\tremaining: 5s\n",
      "845:\tlearn: 0.2523901\ttotal: 27.3s\tremaining: 4.97s\n",
      "846:\tlearn: 0.2523789\ttotal: 27.3s\tremaining: 4.94s\n",
      "847:\tlearn: 0.2523672\ttotal: 27.4s\tremaining: 4.91s\n",
      "848:\tlearn: 0.2523557\ttotal: 27.4s\tremaining: 4.88s\n",
      "849:\tlearn: 0.2523446\ttotal: 27.5s\tremaining: 4.85s\n",
      "850:\tlearn: 0.2523293\ttotal: 27.6s\tremaining: 4.82s\n",
      "851:\tlearn: 0.2523122\ttotal: 27.6s\tremaining: 4.8s\n",
      "852:\tlearn: 0.2523008\ttotal: 27.7s\tremaining: 4.77s\n",
      "853:\tlearn: 0.2522887\ttotal: 27.8s\tremaining: 4.75s\n",
      "854:\tlearn: 0.2522731\ttotal: 27.8s\tremaining: 4.71s\n",
      "855:\tlearn: 0.2522620\ttotal: 27.9s\tremaining: 4.68s\n",
      "856:\tlearn: 0.2522505\ttotal: 27.9s\tremaining: 4.65s\n",
      "857:\tlearn: 0.2522348\ttotal: 27.9s\tremaining: 4.62s\n",
      "858:\tlearn: 0.2522212\ttotal: 28s\tremaining: 4.59s\n",
      "859:\tlearn: 0.2522067\ttotal: 28s\tremaining: 4.56s\n",
      "860:\tlearn: 0.2521994\ttotal: 28.1s\tremaining: 4.53s\n",
      "861:\tlearn: 0.2521838\ttotal: 28.2s\tremaining: 4.51s\n",
      "862:\tlearn: 0.2521723\ttotal: 28.2s\tremaining: 4.48s\n",
      "863:\tlearn: 0.2521617\ttotal: 28.3s\tremaining: 4.45s\n",
      "864:\tlearn: 0.2521484\ttotal: 28.4s\tremaining: 4.42s\n",
      "865:\tlearn: 0.2521367\ttotal: 28.4s\tremaining: 4.39s\n",
      "866:\tlearn: 0.2521289\ttotal: 28.5s\tremaining: 4.37s\n",
      "867:\tlearn: 0.2521155\ttotal: 28.5s\tremaining: 4.33s\n",
      "868:\tlearn: 0.2521027\ttotal: 28.5s\tremaining: 4.3s\n",
      "869:\tlearn: 0.2520927\ttotal: 28.6s\tremaining: 4.27s\n",
      "870:\tlearn: 0.2520820\ttotal: 28.6s\tremaining: 4.24s\n",
      "871:\tlearn: 0.2520720\ttotal: 28.6s\tremaining: 4.2s\n",
      "872:\tlearn: 0.2520626\ttotal: 28.7s\tremaining: 4.17s\n",
      "873:\tlearn: 0.2520516\ttotal: 28.7s\tremaining: 4.14s\n",
      "874:\tlearn: 0.2520393\ttotal: 28.8s\tremaining: 4.11s\n",
      "875:\tlearn: 0.2520208\ttotal: 28.8s\tremaining: 4.08s\n",
      "876:\tlearn: 0.2520110\ttotal: 28.8s\tremaining: 4.04s\n",
      "877:\tlearn: 0.2519975\ttotal: 28.9s\tremaining: 4.01s\n",
      "878:\tlearn: 0.2519865\ttotal: 28.9s\tremaining: 3.98s\n",
      "879:\tlearn: 0.2519717\ttotal: 29s\tremaining: 3.95s\n",
      "880:\tlearn: 0.2519544\ttotal: 29s\tremaining: 3.92s\n",
      "881:\tlearn: 0.2519366\ttotal: 29.1s\tremaining: 3.89s\n",
      "882:\tlearn: 0.2519264\ttotal: 29.1s\tremaining: 3.85s\n",
      "883:\tlearn: 0.2519175\ttotal: 29.1s\tremaining: 3.82s\n",
      "884:\tlearn: 0.2519028\ttotal: 29.2s\tremaining: 3.79s\n",
      "885:\tlearn: 0.2518976\ttotal: 29.2s\tremaining: 3.76s\n",
      "886:\tlearn: 0.2518833\ttotal: 29.3s\tremaining: 3.73s\n",
      "887:\tlearn: 0.2518705\ttotal: 29.3s\tremaining: 3.69s\n",
      "888:\tlearn: 0.2518572\ttotal: 29.3s\tremaining: 3.66s\n",
      "889:\tlearn: 0.2518423\ttotal: 29.4s\tremaining: 3.63s\n",
      "890:\tlearn: 0.2518315\ttotal: 29.4s\tremaining: 3.6s\n",
      "891:\tlearn: 0.2518231\ttotal: 29.5s\tremaining: 3.57s\n",
      "892:\tlearn: 0.2518138\ttotal: 29.5s\tremaining: 3.53s\n",
      "893:\tlearn: 0.2518029\ttotal: 29.5s\tremaining: 3.5s\n",
      "894:\tlearn: 0.2517928\ttotal: 29.6s\tremaining: 3.47s\n",
      "895:\tlearn: 0.2517836\ttotal: 29.6s\tremaining: 3.43s\n",
      "896:\tlearn: 0.2517725\ttotal: 29.6s\tremaining: 3.4s\n",
      "897:\tlearn: 0.2517521\ttotal: 29.7s\tremaining: 3.37s\n",
      "898:\tlearn: 0.2517398\ttotal: 29.7s\tremaining: 3.33s\n",
      "899:\tlearn: 0.2517324\ttotal: 29.7s\tremaining: 3.3s\n",
      "900:\tlearn: 0.2517199\ttotal: 29.8s\tremaining: 3.27s\n",
      "901:\tlearn: 0.2517077\ttotal: 29.8s\tremaining: 3.24s\n",
      "902:\tlearn: 0.2516931\ttotal: 29.9s\tremaining: 3.21s\n",
      "903:\tlearn: 0.2516785\ttotal: 29.9s\tremaining: 3.18s\n",
      "904:\tlearn: 0.2516696\ttotal: 30s\tremaining: 3.14s\n",
      "905:\tlearn: 0.2516568\ttotal: 30s\tremaining: 3.11s\n",
      "906:\tlearn: 0.2516415\ttotal: 30s\tremaining: 3.08s\n",
      "907:\tlearn: 0.2516249\ttotal: 30.1s\tremaining: 3.05s\n",
      "908:\tlearn: 0.2516150\ttotal: 30.1s\tremaining: 3.02s\n",
      "909:\tlearn: 0.2516021\ttotal: 30.2s\tremaining: 2.98s\n",
      "910:\tlearn: 0.2515892\ttotal: 30.2s\tremaining: 2.95s\n",
      "911:\tlearn: 0.2515796\ttotal: 30.3s\tremaining: 2.92s\n",
      "912:\tlearn: 0.2515744\ttotal: 30.3s\tremaining: 2.89s\n",
      "913:\tlearn: 0.2515498\ttotal: 30.3s\tremaining: 2.85s\n",
      "914:\tlearn: 0.2515339\ttotal: 30.4s\tremaining: 2.82s\n",
      "915:\tlearn: 0.2515211\ttotal: 30.4s\tremaining: 2.79s\n",
      "916:\tlearn: 0.2515147\ttotal: 30.4s\tremaining: 2.75s\n",
      "917:\tlearn: 0.2515030\ttotal: 30.5s\tremaining: 2.72s\n",
      "918:\tlearn: 0.2514938\ttotal: 30.5s\tremaining: 2.69s\n",
      "919:\tlearn: 0.2514834\ttotal: 30.6s\tremaining: 2.66s\n",
      "920:\tlearn: 0.2514726\ttotal: 30.6s\tremaining: 2.63s\n",
      "921:\tlearn: 0.2514579\ttotal: 30.7s\tremaining: 2.59s\n",
      "922:\tlearn: 0.2514433\ttotal: 30.7s\tremaining: 2.56s\n",
      "923:\tlearn: 0.2514372\ttotal: 30.7s\tremaining: 2.53s\n",
      "924:\tlearn: 0.2514236\ttotal: 30.7s\tremaining: 2.49s\n",
      "925:\tlearn: 0.2514134\ttotal: 30.8s\tremaining: 2.46s\n",
      "926:\tlearn: 0.2514073\ttotal: 30.8s\tremaining: 2.43s\n",
      "927:\tlearn: 0.2513896\ttotal: 30.8s\tremaining: 2.39s\n",
      "928:\tlearn: 0.2513765\ttotal: 30.9s\tremaining: 2.36s\n",
      "929:\tlearn: 0.2513573\ttotal: 30.9s\tremaining: 2.33s\n",
      "930:\tlearn: 0.2513436\ttotal: 30.9s\tremaining: 2.29s\n",
      "931:\tlearn: 0.2513373\ttotal: 31s\tremaining: 2.26s\n",
      "932:\tlearn: 0.2513247\ttotal: 31s\tremaining: 2.23s\n",
      "933:\tlearn: 0.2513133\ttotal: 31.1s\tremaining: 2.19s\n",
      "934:\tlearn: 0.2513031\ttotal: 31.1s\tremaining: 2.16s\n",
      "935:\tlearn: 0.2512927\ttotal: 31.2s\tremaining: 2.14s\n",
      "936:\tlearn: 0.2512727\ttotal: 31.3s\tremaining: 2.1s\n",
      "937:\tlearn: 0.2512625\ttotal: 31.3s\tremaining: 2.07s\n",
      "938:\tlearn: 0.2512557\ttotal: 31.4s\tremaining: 2.04s\n",
      "939:\tlearn: 0.2512461\ttotal: 31.4s\tremaining: 2s\n",
      "940:\tlearn: 0.2512357\ttotal: 31.5s\tremaining: 1.97s\n",
      "941:\tlearn: 0.2512222\ttotal: 31.5s\tremaining: 1.94s\n",
      "942:\tlearn: 0.2512142\ttotal: 31.5s\tremaining: 1.91s\n",
      "943:\tlearn: 0.2512047\ttotal: 31.6s\tremaining: 1.87s\n",
      "944:\tlearn: 0.2511927\ttotal: 31.6s\tremaining: 1.84s\n",
      "945:\tlearn: 0.2511819\ttotal: 31.6s\tremaining: 1.81s\n",
      "946:\tlearn: 0.2511724\ttotal: 31.7s\tremaining: 1.77s\n",
      "947:\tlearn: 0.2511618\ttotal: 31.7s\tremaining: 1.74s\n",
      "948:\tlearn: 0.2511494\ttotal: 31.8s\tremaining: 1.71s\n",
      "949:\tlearn: 0.2511341\ttotal: 31.8s\tremaining: 1.67s\n",
      "950:\tlearn: 0.2511204\ttotal: 31.8s\tremaining: 1.64s\n",
      "951:\tlearn: 0.2511160\ttotal: 31.9s\tremaining: 1.61s\n",
      "952:\tlearn: 0.2511054\ttotal: 31.9s\tremaining: 1.57s\n",
      "953:\tlearn: 0.2510861\ttotal: 32s\tremaining: 1.54s\n",
      "954:\tlearn: 0.2510782\ttotal: 32s\tremaining: 1.51s\n",
      "955:\tlearn: 0.2510627\ttotal: 32s\tremaining: 1.47s\n",
      "956:\tlearn: 0.2510464\ttotal: 32.1s\tremaining: 1.44s\n",
      "957:\tlearn: 0.2510382\ttotal: 32.1s\tremaining: 1.41s\n",
      "958:\tlearn: 0.2510216\ttotal: 32.1s\tremaining: 1.37s\n",
      "959:\tlearn: 0.2510071\ttotal: 32.2s\tremaining: 1.34s\n",
      "960:\tlearn: 0.2509971\ttotal: 32.2s\tremaining: 1.31s\n",
      "961:\tlearn: 0.2509830\ttotal: 32.3s\tremaining: 1.27s\n",
      "962:\tlearn: 0.2509729\ttotal: 32.3s\tremaining: 1.24s\n",
      "963:\tlearn: 0.2509662\ttotal: 32.3s\tremaining: 1.21s\n",
      "964:\tlearn: 0.2509571\ttotal: 32.3s\tremaining: 1.17s\n",
      "965:\tlearn: 0.2509452\ttotal: 32.4s\tremaining: 1.14s\n",
      "966:\tlearn: 0.2509389\ttotal: 32.4s\tremaining: 1.11s\n",
      "967:\tlearn: 0.2509293\ttotal: 32.4s\tremaining: 1.07s\n",
      "968:\tlearn: 0.2509196\ttotal: 32.5s\tremaining: 1.04s\n",
      "969:\tlearn: 0.2509109\ttotal: 32.5s\tremaining: 1s\n",
      "970:\tlearn: 0.2508981\ttotal: 32.5s\tremaining: 972ms\n",
      "971:\tlearn: 0.2508888\ttotal: 32.6s\tremaining: 939ms\n",
      "972:\tlearn: 0.2508775\ttotal: 32.6s\tremaining: 905ms\n",
      "973:\tlearn: 0.2508678\ttotal: 32.7s\tremaining: 872ms\n",
      "974:\tlearn: 0.2508586\ttotal: 32.7s\tremaining: 839ms\n",
      "975:\tlearn: 0.2508478\ttotal: 32.8s\tremaining: 805ms\n",
      "976:\tlearn: 0.2508395\ttotal: 32.8s\tremaining: 772ms\n",
      "977:\tlearn: 0.2508298\ttotal: 32.8s\tremaining: 738ms\n",
      "978:\tlearn: 0.2508198\ttotal: 32.9s\tremaining: 705ms\n",
      "979:\tlearn: 0.2508099\ttotal: 32.9s\tremaining: 672ms\n",
      "980:\tlearn: 0.2508010\ttotal: 32.9s\tremaining: 638ms\n",
      "981:\tlearn: 0.2507882\ttotal: 33s\tremaining: 605ms\n",
      "982:\tlearn: 0.2507750\ttotal: 33s\tremaining: 571ms\n",
      "983:\tlearn: 0.2507652\ttotal: 33.1s\tremaining: 538ms\n",
      "984:\tlearn: 0.2507531\ttotal: 33.1s\tremaining: 505ms\n",
      "985:\tlearn: 0.2507467\ttotal: 33.2s\tremaining: 471ms\n",
      "986:\tlearn: 0.2507369\ttotal: 33.2s\tremaining: 437ms\n",
      "987:\tlearn: 0.2507187\ttotal: 33.2s\tremaining: 404ms\n",
      "988:\tlearn: 0.2507102\ttotal: 33.3s\tremaining: 370ms\n",
      "989:\tlearn: 0.2507007\ttotal: 33.3s\tremaining: 336ms\n",
      "990:\tlearn: 0.2506935\ttotal: 33.3s\tremaining: 303ms\n",
      "991:\tlearn: 0.2506856\ttotal: 33.4s\tremaining: 269ms\n",
      "992:\tlearn: 0.2506742\ttotal: 33.4s\tremaining: 235ms\n",
      "993:\tlearn: 0.2506585\ttotal: 33.4s\tremaining: 202ms\n",
      "994:\tlearn: 0.2506449\ttotal: 33.5s\tremaining: 168ms\n",
      "995:\tlearn: 0.2506327\ttotal: 33.5s\tremaining: 135ms\n",
      "996:\tlearn: 0.2506235\ttotal: 33.5s\tremaining: 101ms\n",
      "997:\tlearn: 0.2506130\ttotal: 33.6s\tremaining: 67.3ms\n",
      "998:\tlearn: 0.2506044\ttotal: 33.6s\tremaining: 33.6ms\n",
      "999:\tlearn: 0.2505911\ttotal: 33.6s\tremaining: 0us\n"
     ]
    }
   ],
   "source": [
    "modelCfit=modelC.fit(X_train, y_train)"
   ]
  },
  {
   "cell_type": "code",
   "execution_count": 51,
   "metadata": {},
   "outputs": [
    {
     "name": "stdout",
     "output_type": "stream",
     "text": [
      "Learning rate set to 0.130164\n",
      "0:\tlearn: 0.4918337\ttest: 0.4918646\tbest: 0.4918646 (0)\ttotal: 79ms\tremaining: 1m 18s\n",
      "100:\tlearn: 0.2630474\ttest: 0.2642937\tbest: 0.2642937 (100)\ttotal: 11.2s\tremaining: 1m 39s\n",
      "Stopped by overfitting detector  (10 iterations wait)\n",
      "\n",
      "bestTest = 0.2641568872\n",
      "bestIteration = 135\n",
      "\n",
      "Shrink model to first 136 iterations.\n"
     ]
    }
   ],
   "source": [
    "modelC=modelC.fit(X_train, y_train, cat_features=cat_col, eval_set=(X_test,y_test),early_stopping_rounds=10,verbose=100)"
   ]
  },
  {
   "cell_type": "code",
   "execution_count": 52,
   "metadata": {},
   "outputs": [],
   "source": [
    "predictions=[pred[1] for pred in modelC.predict_proba(X_test)]"
   ]
  },
  {
   "cell_type": "code",
   "execution_count": 53,
   "metadata": {},
   "outputs": [
    {
     "name": "stdout",
     "output_type": "stream",
     "text": [
      "The roc_auc_score is : 0.8576941223857579\n"
     ]
    }
   ],
   "source": [
    "print(f\"The roc_auc_score is : {roc_auc_score(y_test,predictions,average='weighted')}\")"
   ]
  },
  {
   "cell_type": "code",
   "execution_count": 54,
   "metadata": {},
   "outputs": [
    {
     "ename": "NameError",
     "evalue": "name 'predictions1' is not defined",
     "output_type": "error",
     "traceback": [
      "\u001b[0;31m---------------------------------------------------------------------------\u001b[0m",
      "\u001b[0;31mNameError\u001b[0m                                 Traceback (most recent call last)",
      "\u001b[0;32m<ipython-input-54-7f931cbec6cb>\u001b[0m in \u001b[0;36m<module>\u001b[0;34m\u001b[0m\n\u001b[0;32m----> 1\u001b[0;31m \u001b[0mpredictions1\u001b[0m\u001b[0;34m=\u001b[0m\u001b[0mnp\u001b[0m\u001b[0;34m.\u001b[0m\u001b[0mwhere\u001b[0m\u001b[0;34m(\u001b[0m\u001b[0mpredictions1\u001b[0m\u001b[0;34m<=\u001b[0m\u001b[0;36m0.5\u001b[0m\u001b[0;34m,\u001b[0m\u001b[0;36m0\u001b[0m\u001b[0;34m,\u001b[0m\u001b[0;36m1\u001b[0m\u001b[0;34m)\u001b[0m\u001b[0;34m\u001b[0m\u001b[0;34m\u001b[0m\u001b[0m\n\u001b[0m",
      "\u001b[0;31mNameError\u001b[0m: name 'predictions1' is not defined"
     ]
    }
   ],
   "source": [
    "predictions1=np.where(predictions1<=0.5,0,1)"
   ]
  },
  {
   "cell_type": "code",
   "execution_count": null,
   "metadata": {},
   "outputs": [],
   "source": [
    "confusion_matrix(y_test,predictions1)"
   ]
  },
  {
   "cell_type": "code",
   "execution_count": null,
   "metadata": {},
   "outputs": [],
   "source": [
    "predictions1=np.array(predictions)"
   ]
  },
  {
   "cell_type": "code",
   "execution_count": null,
   "metadata": {},
   "outputs": [],
   "source": [
    "y_test.dtype"
   ]
  },
  {
   "cell_type": "code",
   "execution_count": null,
   "metadata": {},
   "outputs": [],
   "source": [
    "plt.plot(predictions1)"
   ]
  },
  {
   "cell_type": "code",
   "execution_count": null,
   "metadata": {
    "scrolled": true
   },
   "outputs": [],
   "source": [
    "plot_roc_curve(modelCfit,X_test,y_test)"
   ]
  },
  {
   "cell_type": "code",
   "execution_count": null,
   "metadata": {},
   "outputs": [],
   "source": []
  }
 ],
 "metadata": {
  "kernelspec": {
   "display_name": "Python 3",
   "language": "python",
   "name": "python3"
  },
  "language_info": {
   "codemirror_mode": {
    "name": "ipython",
    "version": 3
   },
   "file_extension": ".py",
   "mimetype": "text/x-python",
   "name": "python",
   "nbconvert_exporter": "python",
   "pygments_lexer": "ipython3",
   "version": "3.7.7"
  }
 },
 "nbformat": 4,
 "nbformat_minor": 4
}
